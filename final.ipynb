{
 "cells": [
  {
   "cell_type": "code",
   "execution_count": 1,
   "metadata": {},
   "outputs": [],
   "source": [
    "import numpy as np\n",
    "import matplotlib.pyplot as plt\n",
    "from astropy.io import fits\n",
    "from glob import glob\n",
    "from astropy.table import Table\n",
    "from uncertainties import ufloat\n",
    "from uncertainties import unumpy\n",
    "from uncertainties.umath import * \n",
    "from astropy.io import ascii\n",
    "from astropy.coordinates import SkyCoord\n",
    "import astropy.units as u\n",
    "from astroquery.vizier import Vizier\n",
    "from astropy.utils.console import ProgressBar\n",
    "from shutil import copyfile"
   ]
  },
  {
   "cell_type": "code",
   "execution_count": 2,
   "metadata": {},
   "outputs": [],
   "source": [
    "#reading in intial data\n",
    "hflat=glob('/media/daniel/disk/observ_final_data/EarlyMay_1x1/h_flat/*.fits')\n",
    "rflat=glob('/media/daniel/disk/observ_final_data/EarlyMay_1x1/r_flat/*.fits')\n",
    "bias=glob('/media/daniel/disk/observ_final_data/EarlyMay_1x1/zeros/*.fits')\n",
    "binned_bias=glob('/media/daniel/disk/project_3_Data/calibs/EarlyApril/Binned_2x2/zeros/*')\n",
    "\n",
    "ic3687=glob('/media/daniel/disk/observ_final_data/dwarf/M94_Group_Dwarf_Galaxies/IC3687/*')\n",
    "ngc4163=glob('/media/daniel/disk/observ_final_data/dwarf/M94_Group_Dwarf_Galaxies/NGC4163/*')\n",
    "ugc6817=glob('/media/daniel/disk/observ_final_data/dwarf/M94_Group_Dwarf_Galaxies/UGC6817/*.fits')\n",
    "ugc7559=glob('/media/daniel/disk/observ_final_data/dwarf/M94_Group_Dwarf_Galaxies/UGC7559/*')\n",
    "ugc7577=glob('/media/daniel/disk/observ_final_data/dwarf/M94_Group_Dwarf_Galaxies/UGC7577/*')\n",
    "ugc7605=glob('/media/daniel/disk/observ_final_data/dwarf/M94_Group_Dwarf_Galaxies/UGC7605/*')\n",
    "ugc8320=glob('/media/daniel/disk/observ_final_data/dwarf/M94_Group_Dwarf_Galaxies/UGC8320/*')\n",
    "ugc8651=glob('/media/daniel/disk/observ_final_data/dwarf/M94_Group_Dwarf_Galaxies/UGC8651/*')\n",
    "ugc8760=glob('/media/daniel/disk/observ_final_data/dwarf/M94_Group_Dwarf_Galaxies/UGC8760/*')\n",
    "ugc9128=glob('/media/daniel/disk/observ_final_data/dwarf/M94_Group_Dwarf_Galaxies/UGC9128/*')"
   ]
  },
  {
   "cell_type": "code",
   "execution_count": 3,
   "metadata": {},
   "outputs": [
    {
     "name": "stdout",
     "output_type": "stream",
     "text": [
      "IC3687 [1:1024,350:649]\n",
      "IC3687 [1:1024,350:649]\n",
      "IC3687 [1:1024,350:649]\n",
      "IC3687 [1:1024,350:649]\n",
      "NGC4163 [1:1024,1:1024]\n",
      "NGC4163 [1:1024,1:1024]\n",
      "NGC4163 [1:1024,1:1024]\n",
      "NGC4163 [1:1024,1:1024]\n",
      "NGC4163 [1:1024,1:1024]\n",
      "NGC4163 [1:1024,1:1024]\n",
      "UGC6817 [1:1024,350:649]\n",
      "UGC6817 [1:1024,350:649]\n",
      "UGC6817 [1:1024,350:649]\n",
      "UGC6817 [1:1024,350:649]\n",
      "UGC6817 [1:1024,350:649]\n",
      "UGC6817 [1:1024,350:649]\n",
      "UGC7559 [1:1024,350:649]\n",
      "UGC7559 [1:1024,350:649]\n",
      "UGC7559 [1:1024,350:649]\n",
      "UGC7559 [1:1024,350:649]\n",
      "UGC7559 [1:1024,350:649]\n",
      "UGC7559 [1:1024,350:649]\n",
      "UGC7577 [1:1024,1:1024]\n",
      "UGC7577 [1:1024,1:1024]\n",
      "UGC7577 [1:1024,1:1024]\n",
      "UGC7577 [1:1024,1:1024]\n",
      "UGC7577 [1:1024,1:1024]\n",
      "UGC7577 [1:1024,1:1024]\n",
      "UGC7605 [1:1024,350:649]\n",
      "UGC7605 [1:1024,350:649]\n",
      "UGC7605 [1:1024,350:649]\n",
      "UGC7605 [1:1024,350:649]\n",
      "UGC7605 [1:1024,350:649]\n",
      "UGC7605 [1:1024,350:649]\n",
      "UGC8320 [1:1024,1:1024]\n",
      "UGC8320 [1:1024,1:1024]\n",
      "UGC8320 [1:1024,1:1024]\n",
      "UGC8320 [1:1024,1:1024]\n",
      "UGC8320 [1:1024,1:1024]\n",
      "UGC8320 [1:1024,1:1024]\n",
      "UGC8651 [1:1024,350:649]\n",
      "UGC8651 [1:1024,350:649]\n",
      "UGC8651 [1:1024,350:649]\n",
      "UGC8651 [1:1024,350:649]\n",
      "UGC8651 [1:1024,350:649]\n",
      "UGC8651 [1:1024,350:649]\n",
      "UGC8760 [1:1024,350:649]\n",
      "UGC8760 [1:1024,350:649]\n",
      "UGC8760 [1:1024,350:649]\n",
      "UGC8760 [1:1024,350:649]\n",
      "UGC9128 [1:1024,350:649]\n",
      "UGC9128 [1:1024,350:649]\n",
      "UGC9128 [1:1024,350:649]\n",
      "UGC9128 [1:1024,350:649]\n"
     ]
    }
   ],
   "source": [
    "shots=ic3687+ngc4163+ugc6817+ugc7559+ugc7577+ugc7605+ugc8320+ugc8651+ugc8760+ugc9128\n",
    "for name in shots:\n",
    "    print(fits.open(name)[0].header['OBJECT'], fits.open(name)[0].header['CCDSEC'])"
   ]
  },
  {
   "cell_type": "code",
   "execution_count": 4,
   "metadata": {},
   "outputs": [],
   "source": [
    "def combinerbias(flat):#pulls a bias, converts to an array, then adds it to the array of arrays\n",
    "    x=[]\n",
    "    for y in flat:\n",
    "        x.append(fits.getdata(y))\n",
    "    return x"
   ]
  },
  {
   "cell_type": "code",
   "execution_count": 5,
   "metadata": {},
   "outputs": [],
   "source": [
    "#creating master bias\n",
    "master_bias=np.median(combinerbias(bias),axis=0)\n",
    "master_bias_bin=np.median(combinerbias(binned_bias),axis=0)\n"
   ]
  },
  {
   "cell_type": "code",
   "execution_count": 6,
   "metadata": {},
   "outputs": [],
   "source": [
    "def combiner(flat):#pulls a flat, converts to an array, subtracts the master bias, then adds it to the array of arrays\n",
    "    x=[]\n",
    "    for y in flat:\n",
    "        x.append(((fits.getdata(y)-master_bias)))\n",
    "        \n",
    "    return x"
   ]
  },
  {
   "cell_type": "code",
   "execution_count": 7,
   "metadata": {},
   "outputs": [],
   "source": [
    "def make_master_flat(flats):\n",
    "    master_flat=np.median(combiner(flats),axis=0)\n",
    "    master_flat=master_flat/np.median(master_flat)\n",
    "    return master_flat"
   ]
  },
  {
   "cell_type": "code",
   "execution_count": 8,
   "metadata": {},
   "outputs": [],
   "source": [
    "#creating master flats for both 2020 \n",
    "master_hflat=make_master_flat(hflat)\n",
    "master_rflat=make_master_flat(rflat)\n",
    "\n",
    "\n",
    "\n"
   ]
  },
  {
   "cell_type": "code",
   "execution_count": 9,
   "metadata": {},
   "outputs": [],
   "source": [
    "#data is binned need to bin the flats"
   ]
  },
  {
   "cell_type": "code",
   "execution_count": 10,
   "metadata": {},
   "outputs": [],
   "source": [
    "def rebin(arr, new_shape):\n",
    "    shape = (new_shape[0], arr.shape[0] // new_shape[0],\n",
    "             new_shape[1], arr.shape[1] // new_shape[1])\n",
    "    return arr.reshape(shape).mean(-1).mean(1)"
   ]
  },
  {
   "cell_type": "code",
   "execution_count": 11,
   "metadata": {},
   "outputs": [],
   "source": [
    "#data is only on the 2048X2048 part so need to trim it before doing the rebin\n",
    "#need to trim all shots as well to 1024x1024 and the binned master bias\n",
    "#also need to make the sub-array where y:350-649"
   ]
  },
  {
   "cell_type": "code",
   "execution_count": 12,
   "metadata": {},
   "outputs": [],
   "source": [
    "def trimmerflat(arry):\n",
    "    trimmed=[]\n",
    "    for x in range(0,2048):\n",
    "        trimmed.append(arry[x][:2048])\n",
    "    return np.array(trimmed)"
   ]
  },
  {
   "cell_type": "code",
   "execution_count": 101,
   "metadata": {},
   "outputs": [],
   "source": [
    "def trimmer(arry,*args):#for trimming to 1024x1024 ymin,ymax\n",
    "    trimmed=[]\n",
    "    if len(args)>0 and args[0]==(1,):\n",
    "        for x in range(0,300):\n",
    "            trimmed.append(arry[x][:1024])\n",
    "\n",
    "    else:\n",
    "        for x in range(0,1024):\n",
    "            trimmed.append(arry[x][:1024])\n",
    "    return np.array(trimmed)"
   ]
  },
  {
   "cell_type": "code",
   "execution_count": 102,
   "metadata": {},
   "outputs": [],
   "source": [
    "master_hflat_trim=trimmerflat(master_hflat)\n",
    "master_rflat_trim=trimmerflat(master_rflat)\n",
    "master_bias_trim=trimmer(master_bias_bin)\n"
   ]
  },
  {
   "cell_type": "code",
   "execution_count": 70,
   "metadata": {},
   "outputs": [],
   "source": [
    "master_hflat_bin=rebin(master_hflat_trim,(1024,1024))\n",
    "master_rflat_bin=rebin(master_rflat_trim,(1024,1024))"
   ]
  },
  {
   "cell_type": "code",
   "execution_count": 16,
   "metadata": {},
   "outputs": [],
   "source": [
    "master_hflat_mini=[]\n",
    "for y in range(349,649):\n",
    "    master_hflat_mini.append(master_hflat_bin[y])\n",
    "\n",
    "master_rflat_mini=[]\n",
    "for y in range(349,649):\n",
    "    master_rflat_mini.append(master_rflat_bin[y])\n",
    "\n",
    "master_bias_mini=[]\n",
    "for y in range(349,649):\n",
    "    master_bias_mini.append(master_bias_trim[y])\n"
   ]
  },
  {
   "cell_type": "code",
   "execution_count": 17,
   "metadata": {},
   "outputs": [],
   "source": [
    "def imsorter(images): #returns array of arrays, index 0-4 goes u,g,r,i,Ha filter.\n",
    "    x=0\n",
    "    returnarray=[]\n",
    "    g=[]\n",
    "    u=[]\n",
    "    i=[]\n",
    "    r=[]\n",
    "    h=[]\n",
    "    while x<len(images):\n",
    "        hdul = fits.open(images[x])  # open a FITS file\n",
    "        hdr = hdul[0].header\n",
    "        if hdr['INSFILTE']=='g':\n",
    "            g.append(images[x])\n",
    "        if hdr['INSFILTE']=='u':\n",
    "            u.append(images[x])\n",
    "        if hdr['INSFILTE']=='i':\n",
    "            i.append(images[x])\n",
    "        if hdr['INSFILTE']=='r':\n",
    "            r.append(images[x])\n",
    "        if hdr['INSFILTE']=='Ha' or hdr['INSFILTE']=='H':\n",
    "            h.append(images[x])\n",
    "        x+=1\n",
    "    returnarray.append(u)\n",
    "    returnarray.append(g)\n",
    "    returnarray.append(r)\n",
    "    returnarray.append(i)\n",
    "    returnarray.append(h)\n",
    "    \n",
    "    return returnarray"
   ]
  },
  {
   "cell_type": "code",
   "execution_count": 18,
   "metadata": {},
   "outputs": [],
   "source": [
    "#sorting images for arp302, ngc4038, ugc8335\n",
    "ic3687_sorted=imsorter(ic3687)\n",
    "ngc4163_sorted=imsorter(ngc4163)\n",
    "ugc6817_sorted=imsorter(ugc6817)\n",
    "ugc7559_sorted=imsorter(ugc7559)\n",
    "ugc7577_sorted=imsorter(ugc7577)\n",
    "ugc7605_sorted=imsorter(ugc7605)\n",
    "ugc8320_sorted=imsorter(ugc8320)\n",
    "ugc8651_sorted=imsorter(ugc8651)\n",
    "ugc8760_sorted=imsorter(ugc8760)\n",
    "ugc9128_sorted=imsorter(ugc9128)\n"
   ]
  },
  {
   "cell_type": "code",
   "execution_count": 19,
   "metadata": {},
   "outputs": [],
   "source": [
    "# allshots=m101_sorted+ngc2903_sorted+ngc6946_sorted+m51_sorted+m82_sorted\n",
    "# for item in allshots:\n",
    "#     for arry in item:\n",
    "#         print(arry)\n",
    "#         print(fits.open(arry)[0].header['EXPTIME'],fits.open(arry)[0].header['INSFILTE'] )\n",
    "#         print()"
   ]
  },
  {
   "cell_type": "code",
   "execution_count": 29,
   "metadata": {},
   "outputs": [],
   "source": [
    "#reading in data to arrays r=2, h=4\n",
    "ic3687_r=[]\n",
    "ngc4163_r=[]\n",
    "ugc6817_r=[]\n",
    "ugc7559_r=[]\n",
    "ugc7577_r=[]\n",
    "ugc7605_r=[]\n",
    "ugc8320_r=[]\n",
    "ugc8651_r=[]\n",
    "ugc8760_r=[]\n",
    "ugc9128_r=[]\n",
    "\n",
    "ic3687_h=[]\n",
    "ngc4163_h=[]\n",
    "ugc6817_h=[]\n",
    "ugc7559_h=[]\n",
    "ugc7577_h=[]\n",
    "ugc7605_h=[]\n",
    "ugc8320_h=[]\n",
    "ugc8651_h=[]\n",
    "ugc8760_h=[]\n",
    "ugc9128_h=[]\n",
    "\n",
    "\n",
    "for name in ic3687_sorted[2]:\n",
    "    ic3687_r.append(fits.getdata(name))\n",
    "\n",
    "for name in ic3687_sorted[4]:\n",
    "    ic3687_h.append(fits.getdata(name))\n",
    "    \n",
    "    \n",
    "for name in ngc4163_sorted[2]:\n",
    "    ngc4163_r.append(fits.getdata(name))\n",
    "\n",
    "for name in ngc4163_sorted[4]:\n",
    "    ngc4163_h.append(fits.getdata(name))\n",
    "    \n",
    "    \n",
    "for name in ugc6817_sorted[2]:\n",
    "    ugc6817_r.append(fits.getdata(name))\n",
    "\n",
    "for name in ugc6817_sorted[4]:\n",
    "    ugc6817_h.append(fits.getdata(name))\n",
    "    \n",
    "    \n",
    "for name in ugc7559_sorted[2]:\n",
    "    ugc7559_r.append(fits.getdata(name))\n",
    "\n",
    "for name in ugc7559_sorted[4]:\n",
    "    ugc7559_h.append(fits.getdata(name))\n",
    "        \n",
    "    \n",
    "for name in ugc7577_sorted[2]:\n",
    "    ugc7577_r.append(fits.getdata(name))\n",
    "\n",
    "for name in ugc7577_sorted[4]:\n",
    "    ugc7577_h.append(fits.getdata(name))\n",
    "            \n",
    "    \n",
    "for name in ugc7605_sorted[2]:\n",
    "    ugc7605_r.append(fits.getdata(name))\n",
    "\n",
    "for name in ugc7605_sorted[4]:\n",
    "    ugc7605_h.append(fits.getdata(name))\n",
    "                \n",
    "    \n",
    "for name in ugc8320_sorted[2]:\n",
    "    ugc8320_r.append(fits.getdata(name))\n",
    "\n",
    "for name in ugc8320_sorted[4]:\n",
    "    ugc8320_h.append(fits.getdata(name))\n",
    "                    \n",
    "    \n",
    "for name in ugc8651_sorted[2]:\n",
    "    ugc8651_r.append(fits.getdata(name))\n",
    "\n",
    "for name in ugc8651_sorted[4]:\n",
    "    ugc8651_h.append(fits.getdata(name))\n",
    "                        \n",
    "    \n",
    "for name in ugc8760_sorted[2]:\n",
    "    ugc8760_r.append(fits.getdata(name))\n",
    "\n",
    "for name in ugc8760_sorted[4]:\n",
    "    ugc8760_h.append(fits.getdata(name))\n",
    "                            \n",
    "    \n",
    "for name in ugc9128_sorted[2]:\n",
    "    ugc9128_r.append(fits.getdata(name))\n",
    "\n",
    "for name in ugc9128_sorted[4]:\n",
    "    ugc9128_h.append(fits.getdata(name))"
   ]
  },
  {
   "cell_type": "code",
   "execution_count": 30,
   "metadata": {},
   "outputs": [],
   "source": [
    "def multitrimmer(arry,*args):\n",
    "    returnarry=[]\n",
    "    for shot in arry:\n",
    "        returnarry.append(trimmer(shot,args))\n",
    "    return returnarry"
   ]
  },
  {
   "cell_type": "code",
   "execution_count": 103,
   "metadata": {},
   "outputs": [],
   "source": [
    "#trimming shots\n",
    "ngc4163_r_trim=multitrimmer(ngc4163_r)\n",
    "ngc4163_h_trim=multitrimmer(ngc4163_h)\n",
    "\n",
    "ugc7577_r_trim=multitrimmer(ugc7577_r)\n",
    "ugc7577_h_trim=multitrimmer(ugc7577_h)\n",
    "\n",
    "ugc8320_r_trim=multitrimmer(ugc8320_r)\n",
    "ugc8320_h_trim=multitrimmer(ugc8320_h)\n",
    "\n",
    "ic3687_r_trim=multitrimmer(ic3687_r,1)\n",
    "ic3687_h_trim=multitrimmer(ic3687_h,1)\n",
    "\n",
    "ic3687_r_trim=multitrimmer(ic3687_r,1)\n",
    "ic3687_h_trim=multitrimmer(ic3687_h,1)\n",
    "\n",
    "ugc6817_r_trim=multitrimmer(ugc6817_r,1)\n",
    "ugc6817_h_trim=multitrimmer(ugc6817_h,1)\n",
    "\n",
    "ugc7559_r_trim=multitrimmer(ugc7559_r,1)\n",
    "ugc7559_h_trim=multitrimmer(ugc7559_h,1)\n",
    "\n",
    "ugc7605_r_trim=multitrimmer(ugc7605_r,1)\n",
    "ugc7605_h_trim=multitrimmer(ugc7605_h,1)\n",
    "\n",
    "ugc8651_r_trim=multitrimmer(ugc8651_r,1)\n",
    "ugc8651_h_trim=multitrimmer(ugc8651_h,1)\n",
    "\n",
    "ugc8760_r_trim=multitrimmer(ugc8760_r,1)\n",
    "ugc8760_h_trim=multitrimmer(ugc8760_h,1)\n",
    "\n",
    "ugc9128_r_trim=multitrimmer(ugc9128_r,1)\n",
    "ugc9128_h_trim=multitrimmer(ugc9128_h,1)"
   ]
  },
  {
   "cell_type": "code",
   "execution_count": 105,
   "metadata": {
    "scrolled": true
   },
   "outputs": [],
   "source": [
    "# #applying calibrations. I divide by exposure time to prepare the images for stacking later.\n",
    "\n",
    "ic3687_r_processed=[]\n",
    "for x in range(0, len(ic3687_r_trim)):\n",
    "    ic3687_r_processed.append((ic3687_r_trim[x]-master_bias_mini)/master_rflat_mini/fits.open(ic3687_sorted[2][x])[0].header['EXPTIME'])\n",
    "\n",
    "ic3687_h_processed=[]\n",
    "for x in range(0, len(ic3687_h_trim)):\n",
    "    ic3687_h_processed.append((ic3687_h_trim[x]-master_bias_mini)/master_hflat_mini/fits.open(ic3687_sorted[4][x])[0].header['EXPTIME'])\n",
    "\n",
    "\n",
    "ugc6817_r_processed=[]\n",
    "for x in range(0, len(ugc6817_r_trim)):\n",
    "    ugc6817_r_processed.append((ugc6817_r_trim[x]-master_bias_mini)/master_rflat_mini/fits.open(ugc6817_sorted[2][x])[0].header['EXPTIME'])\n",
    "\n",
    "ugc6817_h_processed=[]\n",
    "for x in range(0, len(ugc6817_h_trim)):\n",
    "    ugc6817_h_processed.append((ugc6817_h_trim[x]-master_bias_mini)/master_hflat_mini/float(fits.open(ugc6817_sorted[4][x])[0].header['EXPTIME']))\n",
    "    \n",
    "    \n",
    "ugc7559_r_processed=[]\n",
    "for x in range(0, len(ugc7559_r_trim)):\n",
    "    ugc7559_r_processed.append((ugc7559_r_trim[x]-master_bias_mini)/master_rflat_mini/fits.open(ugc7559_sorted[2][x])[0].header['EXPTIME'])\n",
    "\n",
    "ugc7559_h_processed=[]\n",
    "for x in range(0, len(ugc7559_h_trim)):\n",
    "    ugc7559_h_processed.append((ugc7559_h_trim[x]-master_bias_mini)/master_hflat_mini/fits.open(ugc7559_sorted[4][x])[0].header['EXPTIME'])\n",
    "    \n",
    "    \n",
    "ugc7605_r_processed=[]\n",
    "for x in range(0, len(ugc7605_r_trim)):\n",
    "    ugc7605_r_processed.append((ugc7605_r_trim[x]-master_bias_mini)/master_rflat_mini/fits.open(ugc7605_sorted[2][x])[0].header['EXPTIME'])\n",
    "\n",
    "ugc7605_h_processed=[]\n",
    "for x in range(0, len(ugc7605_h_trim)):\n",
    "    ugc7605_h_processed.append((ugc7605_h_trim[x]-master_bias_mini)/master_hflat_mini/fits.open(ugc7605_sorted[4][x])[0].header['EXPTIME'])\n",
    "    \n",
    "    \n",
    "ugc8651_r_processed=[]\n",
    "for x in range(0, len(ugc8651_r_trim)):\n",
    "    ugc8651_r_processed.append((ugc8651_r_trim[x]-master_bias_mini)/master_rflat_mini/fits.open(ugc8651_sorted[2][x])[0].header['EXPTIME'])\n",
    "\n",
    "ugc8651_h_processed=[]\n",
    "for x in range(0, len(ugc8651_h_trim)):\n",
    "    ugc8651_h_processed.append((ugc8651_h_trim[x]-master_bias_mini)/master_hflat_mini/fits.open(ugc8651_sorted[4][x])[0].header['EXPTIME'])\n",
    "    \n",
    "    \n",
    "ugc8760_r_processed=[]\n",
    "for x in range(0, len(ugc8760_r_trim)):\n",
    "    ugc8760_r_processed.append((ugc8760_r_trim[x]-master_bias_mini)/master_rflat_mini/fits.open(ugc8760_sorted[2][x])[0].header['EXPTIME'])\n",
    "\n",
    "ugc8760_h_processed=[]\n",
    "for x in range(0, len(ugc8760_h_trim)):\n",
    "    ugc8760_h_processed.append((ugc8760_h_trim[x]-master_bias_mini)/master_hflat_mini/fits.open(ugc8760_sorted[4][x])[0].header['EXPTIME'])\n",
    "    \n",
    "    \n",
    "    \n",
    "ugc9128_r_processed=[]\n",
    "for x in range(0, len(ugc9128_r_trim)):\n",
    "    ugc9128_r_processed.append((ugc9128_r_trim[x]-master_bias_mini)/master_rflat_mini/fits.open(ugc9128_sorted[2][x])[0].header['EXPTIME'])\n",
    "\n",
    "ugc9128_h_processed=[]\n",
    "for x in range(0, len(ugc9128_h_trim)):\n",
    "    ugc9128_h_processed.append((ugc9128_h_trim[x]-master_bias_mini)/master_hflat_mini/fits.open(ugc9128_sorted[4][x])[0].header['EXPTIME'])\n",
    "    \n",
    "    \n",
    "#full calib shots\n",
    "ngc4163_r_processed=[]\n",
    "for x in range(0, len(ngc4163_r_trim)):\n",
    "    ngc4163_r_processed.append((ngc4163_r_trim[x]-master_bias_trim)/master_rflat_bin/fits.open(ngc4163_sorted[2][x])[0].header['EXPTIME'])\n",
    "\n",
    "ngc4163_h_processed=[]\n",
    "for x in range(0, len(ngc4163_h_trim)):\n",
    "    ngc4163_h_processed.append((ngc4163_h_trim[x]-master_bias_trim)/master_hflat_bin/fits.open(ngc4163_sorted[4][x])[0].header['EXPTIME'])\n",
    "\n",
    "\n",
    "\n",
    "ugc7577_r_processed=[]\n",
    "for x in range(0, len(ugc7577_r_trim)):\n",
    "    ugc7577_r_processed.append((ugc7577_r_trim[x]-master_bias_trim)/master_rflat_bin/fits.open(ugc7577_sorted[2][x])[0].header['EXPTIME'])\n",
    "\n",
    "ugc7577_h_processed=[]\n",
    "for x in range(0, len(ugc7577_h_trim)):\n",
    "    ugc7577_h_processed.append((ugc7577_h_trim[x]-master_bias_trim)/master_hflat_bin/fits.open(ugc7577_sorted[4][x])[0].header['EXPTIME'])\n",
    "    \n",
    "\n",
    "\n",
    "ugc8320_r_processed=[]\n",
    "for x in range(0, len(ugc8320_r_trim)):\n",
    "    ugc8320_r_processed.append((ugc8320_r_trim[x]-master_bias_trim)/master_rflat_bin/fits.open(ugc8320_sorted[2][x])[0].header['EXPTIME'])\n",
    "\n",
    "ugc8320_h_processed=[]\n",
    "for x in range(0, len(ugc8320_h_trim)):\n",
    "    ugc8320_h_processed.append((ugc8320_h_trim[x]-master_bias_trim)/master_hflat_bin/fits.open(ugc8320_sorted[4][x])[0].header['EXPTIME'])\n",
    "    \n"
   ]
  },
  {
   "cell_type": "code",
   "execution_count": 107,
   "metadata": {},
   "outputs": [],
   "source": [
    "def write_shot(arry, filepath):#only works for arry of arrys\n",
    "    i=0\n",
    "    for shot in arry:\n",
    "        shot_to_write=fits.PrimaryHDU(shot)\n",
    "        filename=filepath+str(i)+'.fits'\n",
    "        shot_to_write.writeto(filename,overwrite=True)\n",
    "        i+=1"
   ]
  },
  {
   "cell_type": "code",
   "execution_count": 109,
   "metadata": {},
   "outputs": [],
   "source": [
    "#writing to fits file to upload to astrometry\n",
    "write_shot(ic3687_r_processed,'/media/daniel/disk/observ_final_data/dwarf/processed/ic3687r')\n",
    "write_shot(ic3687_h_processed,'/media/daniel/disk/observ_final_data/dwarf/processed/ic3687h')\n",
    "\n",
    "write_shot(ugc6817_r_processed,'/media/daniel/disk/observ_final_data/dwarf/processed/ugc6817r')\n",
    "write_shot(ugc6817_h_processed,'/media/daniel/disk/observ_final_data/dwarf/processed/ugc6817h')\n",
    "\n",
    "write_shot(ugc7559_r_processed,'/media/daniel/disk/observ_final_data/dwarf/processed/ugc7559r')\n",
    "write_shot(ugc7559_h_processed,'/media/daniel/disk/observ_final_data/dwarf/processed/ugc7559h')\n",
    "\n",
    "write_shot(ugc7605_r_processed,'/media/daniel/disk/observ_final_data/dwarf/processed/ugc7605r')\n",
    "write_shot(ugc7605_h_processed,'/media/daniel/disk/observ_final_data/dwarf/processed/ugc7605h')\n",
    "\n",
    "write_shot(ugc8651_r_processed,'/media/daniel/disk/observ_final_data/dwarf/processed/ugc8651r')\n",
    "write_shot(ugc8651_h_processed,'/media/daniel/disk/observ_final_data/dwarf/processed/ugc8651h')\n",
    "\n",
    "write_shot(ugc8760_r_processed,'/media/daniel/disk/observ_final_data/dwarf/processed/ugc8760r')\n",
    "write_shot(ugc8760_h_processed,'/media/daniel/disk/observ_final_data/dwarf/processed/ugc8760h')\n",
    "\n",
    "write_shot(ugc9128_r_processed,'/media/daniel/disk/observ_final_data/dwarf/processed/ugc9128r')\n",
    "write_shot(ugc9128_h_processed,'/media/daniel/disk/observ_final_data/dwarf/processed/ugc9128h')\n",
    "\n",
    "write_shot(ngc4163_r_processed,'/media/daniel/disk/observ_final_data/dwarf/processed/ngc4163r')\n",
    "write_shot(ngc4163_h_processed,'/media/daniel/disk/observ_final_data/dwarf/processed/ngc4163h')\n",
    "\n",
    "write_shot(ugc7577_r_processed,'/media/daniel/disk/observ_final_data/dwarf/processed/ugc7577r')\n",
    "write_shot(ugc7577_h_processed,'/media/daniel/disk/observ_final_data/dwarf/processed/ugc7577h')\n",
    "\n",
    "write_shot(ugc8320_r_processed,'/media/daniel/disk/observ_final_data/dwarf/processed/ugc8320r')\n",
    "write_shot(ugc8320_h_processed,'/media/daniel/disk/observ_final_data/dwarf/processed/ugc8320h')"
   ]
  },
  {
   "cell_type": "markdown",
   "metadata": {},
   "source": [
    "had to remove ugc 6817 from the analysis because astrometry.net could not solve any of the images for it"
   ]
  },
  {
   "cell_type": "code",
   "execution_count": 111,
   "metadata": {},
   "outputs": [],
   "source": [
    "def reproject(arry,filepath):\n",
    "    j=0\n",
    "    master=fits.open(get_pkg_data_filename(str(arry[0])))[0]\n",
    "    while j<len(arry):\n",
    "        reprojection = fits.open(get_pkg_data_filename(str(arry[j])))[0]\n",
    "        array, footprint = reproject_interp(reprojection, master.header)\n",
    "        fits.writeto(filepath+str(j)+'.fits', array, master.header, overwrite=True)\n",
    "        j+=1\n"
   ]
  },
  {
   "cell_type": "code",
   "execution_count": 113,
   "metadata": {},
   "outputs": [],
   "source": [
    "#First round of reprojections\n",
    "from astropy.utils.data import get_pkg_data_filename\n",
    "from reproject import reproject_interp\n",
    "ic3687_astro_r=glob('/media/daniel/disk/observ_final_data/dwarf/astrometry/*ic3687r*.fits')\n",
    "ugc7559_astro_r=glob('/media/daniel/disk/observ_final_data/dwarf/astrometry/*ugc7559r*.fits')\n",
    "ugc7605_astro_r=glob('/media/daniel/disk/observ_final_data/dwarf/astrometry/*ugc7605r*.fits')\n",
    "ugc8651_astro_r=glob('/media/daniel/disk/observ_final_data/dwarf/astrometry/*ugc8651r*.fits')\n",
    "ugc8760_astro_r=glob('/media/daniel/disk/observ_final_data/dwarf/astrometry/*ugc8760r*.fits')\n",
    "ugc9128_astro_r=glob('/media/daniel/disk/observ_final_data/dwarf/astrometry/*ugc9128r*.fits')\n",
    "ngc4163_astro_r=glob('/media/daniel/disk/observ_final_data/dwarf/astrometry/*ngc4163r*.fits')\n",
    "ugc7577_astro_r=glob('/media/daniel/disk/observ_final_data/dwarf/astrometry/*ugc7577r*.fits')\n",
    "ugc8320_astro_r=glob('/media/daniel/disk/observ_final_data/dwarf/astrometry/*ugc8320r*.fits')\n",
    "\n",
    "ic3687_astro_h=glob('/media/daniel/disk/observ_final_data/dwarf/astrometry/*ic3687h*.fits')\n",
    "ugc7559_astro_h=glob('/media/daniel/disk/observ_final_data/dwarf/astrometry/*ugc7559h*.fits')\n",
    "ugc7605_astro_h=glob('/media/daniel/disk/observ_final_data/dwarf/astrometry/*ugc7605h*.fits')\n",
    "ugc8651_astro_h=glob('/media/daniel/disk/observ_final_data/dwarf/astrometry/*ugc8651h*.fits')\n",
    "ugc8760_astro_h=glob('/media/daniel/disk/observ_final_data/dwarf/astrometry/*ugc8760h*.fits')\n",
    "ugc9128_astro_h=glob('/media/daniel/disk/observ_final_data/dwarf/astrometry/*ugc9128h*.fits')\n",
    "ngc4163_astro_h=glob('/media/daniel/disk/observ_final_data/dwarf/astrometry/*ngc4163h*.fits')\n",
    "ugc7577_astro_h=glob('/media/daniel/disk/observ_final_data/dwarf/astrometry/*ugc7577h*.fits')\n",
    "ugc8320_astro_h=glob('/media/daniel/disk/observ_final_data/dwarf/astrometry/*ugc8320h*.fits')\n",
    "\n",
    "\n",
    "\n",
    "#REPROJECTING BY FILTER\n",
    "reproject(ic3687_astro_h,'/media/daniel/disk/observ_final_data/dwarf/reproj_1/ic3678_h')\n",
    "reproject(ic3687_astro_r,'/media/daniel/disk/observ_final_data/dwarf/reproj_1/ic3678_r')\n",
    "\n",
    "reproject(ugc7559_astro_h,'/media/daniel/disk/observ_final_data/dwarf/reproj_1/ugc7559_h')\n",
    "reproject(ugc7559_astro_r,'/media/daniel/disk/observ_final_data/dwarf/reproj_1/ugc7559_r')\n",
    "\n",
    "reproject(ugc7605_astro_h,'/media/daniel/disk/observ_final_data/dwarf/reproj_1/ugc7605_h')\n",
    "reproject(ugc7605_astro_r,'/media/daniel/disk/observ_final_data/dwarf/reproj_1/ugc7605_r')\n",
    "\n",
    "reproject(ugc8651_astro_h,'/media/daniel/disk/observ_final_data/dwarf/reproj_1/ugc8651_h')\n",
    "reproject(ugc8651_astro_r,'/media/daniel/disk/observ_final_data/dwarf/reproj_1/ugc8651_r')\n",
    "\n",
    "reproject(ugc8760_astro_h,'/media/daniel/disk/observ_final_data/dwarf/reproj_1/ugc8760_h')\n",
    "reproject(ugc8760_astro_r,'/media/daniel/disk/observ_final_data/dwarf/reproj_1/ugc8760_r')\n",
    "\n",
    "reproject(ugc9128_astro_h,'/media/daniel/disk/observ_final_data/dwarf/reproj_1/ugc9128_h')\n",
    "reproject(ugc9128_astro_r,'/media/daniel/disk/observ_final_data/dwarf/reproj_1/ugc9128_r')\n",
    "\n",
    "reproject(ngc4163_astro_h,'/media/daniel/disk/observ_final_data/dwarf/reproj_1/ngc4163_h')\n",
    "reproject(ngc4163_astro_r,'/media/daniel/disk/observ_final_data/dwarf/reproj_1/ngc4163_r')\n",
    "\n",
    "reproject(ugc7577_astro_h,'/media/daniel/disk/observ_final_data/dwarf/reproj_1/ugc7577_h')\n",
    "reproject(ugc7577_astro_r,'/media/daniel/disk/observ_final_data/dwarf/reproj_1/ugc7577_r')\n",
    "\n",
    "reproject(ugc8320_astro_h,'/media/daniel/disk/observ_final_data/dwarf/reproj_1/ugc8320_h')\n",
    "reproject(ugc8320_astro_r,'/media/daniel/disk/observ_final_data/dwarf/reproj_1/ugc8320_r')"
   ]
  },
  {
   "cell_type": "code",
   "execution_count": 122,
   "metadata": {},
   "outputs": [],
   "source": [
    "#STACKING\n",
    "ic3687_reproj1_name_r=glob('/media/daniel/disk/observ_final_data/dwarf/reproj_1/ic3678_r*')\n",
    "ugc7559_reproj1_name_r=glob('/media/daniel/disk/observ_final_data/dwarf/reproj_1/ugc7559_r*')\n",
    "ugc7605_reproj1_name_r=glob('/media/daniel/disk/observ_final_data/dwarf/reproj_1/ugc7605_r*')\n",
    "ugc8651_reproj1_name_r=glob('/media/daniel/disk/observ_final_data/dwarf/reproj_1/ugc8651_r*')\n",
    "ugc8760_reproj1_name_r=glob('/media/daniel/disk/observ_final_data/dwarf/reproj_1/ugc8760_r*')\n",
    "ugc9128_reproj1_name_r=glob('/media/daniel/disk/observ_final_data/dwarf/reproj_1/ugc9128_r*')\n",
    "ngc4163_reproj1_name_r=glob('/media/daniel/disk/observ_final_data/dwarf/reproj_1/ngc4163_r*')\n",
    "ugc7577_reproj1_name_r=glob('/media/daniel/disk/observ_final_data/dwarf/reproj_1/ugc7577_r*')\n",
    "ugc8320_reproj1_name_r=glob('/media/daniel/disk/observ_final_data/dwarf/reproj_1/ugc8320_r*')\n",
    "\n",
    "ic3687_reproj1_name_h=glob('/media/daniel/disk/observ_final_data/dwarf/reproj_1/ic3678_h*')\n",
    "ugc7559_reproj1_name_h=glob('/media/daniel/disk/observ_final_data/dwarf/reproj_1/ugc7559_h*')\n",
    "ugc7605_reproj1_name_h=glob('/media/daniel/disk/observ_final_data/dwarf/reproj_1/ugc7605_h*')\n",
    "ugc8651_reproj1_name_h=glob('/media/daniel/disk/observ_final_data/dwarf/reproj_1/ugc8651_h*')\n",
    "ugc8760_reproj1_name_h=glob('/media/daniel/disk/observ_final_data/dwarf/reproj_1/ugc8760_h*')\n",
    "ugc9128_reproj1_name_h=glob('/media/daniel/disk/observ_final_data/dwarf/reproj_1/ugc9128_h*')\n",
    "ngc4163_reproj1_name_h=glob('/media/daniel/disk/observ_final_data/dwarf/reproj_1/ngc4163_h*')\n",
    "ugc7577_reproj1_name_h=glob('/media/daniel/disk/observ_final_data/dwarf/reproj_1/ugc7577_h*')\n",
    "ugc8320_reproj1_name_h=glob('/media/daniel/disk/observ_final_data/dwarf/reproj_1/ugc8320_h*')\n",
    "\n",
    "\n",
    "\n",
    "#reading in arrays\n",
    "ic3687_reproj1_arry_r=[]\n",
    "ugc7559_reproj1_arry_r=[]\n",
    "ugc7605_reproj1_arry_r=[]\n",
    "ugc8651_reproj1_arry_r=[]\n",
    "ugc8760_reproj1_arry_r=[]\n",
    "ugc9128_reproj1_arry_r=[]\n",
    "ngc4163_reproj1_arry_r=[]\n",
    "ugc7577_reproj1_arry_r=[]\n",
    "ugc8320_reproj1_arry_r=[]\n",
    "\n",
    "ic3687_reproj1_arry_h=[]\n",
    "ugc7559_reproj1_arry_h=[]\n",
    "ugc7605_reproj1_arry_h=[]\n",
    "ugc8651_reproj1_arry_h=[]\n",
    "ugc8760_reproj1_arry_h=[]\n",
    "ugc9128_reproj1_arry_h=[]\n",
    "ngc4163_reproj1_arry_h=[]\n",
    "ugc7577_reproj1_arry_h=[]\n",
    "ugc8320_reproj1_arry_h=[]\n",
    "\n",
    "\n",
    "for name in ic3687_reproj1_name_h:\n",
    "    ic3687_reproj1_arry_h.append(fits.getdata(name))\n",
    "    \n",
    "for name in ic3687_reproj1_name_r:\n",
    "    ic3687_reproj1_arry_r.append(fits.getdata(name))\n",
    "\n",
    "    \n",
    "for name in ugc7559_reproj1_name_h:\n",
    "    ugc7559_reproj1_arry_h.append(fits.getdata(name))\n",
    "    \n",
    "for name in ugc7559_reproj1_name_r:\n",
    "    ugc7559_reproj1_arry_r.append(fits.getdata(name))\n",
    "\n",
    "\n",
    "for name in ugc7605_reproj1_name_h:\n",
    "    ugc7605_reproj1_arry_h.append(fits.getdata(name))\n",
    "    \n",
    "for name in ugc7605_reproj1_name_r:\n",
    "    ugc7605_reproj1_arry_r.append(fits.getdata(name))\n",
    "    \n",
    "\n",
    "for name in ugc8651_reproj1_name_h:\n",
    "    ugc8651_reproj1_arry_h.append(fits.getdata(name))\n",
    "    \n",
    "for name in ugc8651_reproj1_name_r:\n",
    "    ugc8651_reproj1_arry_r.append(fits.getdata(name))\n",
    "\n",
    "    \n",
    "for name in ugc8760_reproj1_name_h:\n",
    "    ugc8760_reproj1_arry_h.append(fits.getdata(name))\n",
    "    \n",
    "for name in ugc8760_reproj1_name_r:\n",
    "    ugc8760_reproj1_arry_r.append(fits.getdata(name))\n",
    "\n",
    "\n",
    "for name in ugc9128_reproj1_name_h:\n",
    "    ugc9128_reproj1_arry_h.append(fits.getdata(name))\n",
    "    \n",
    "for name in ugc9128_reproj1_name_r:\n",
    "    ugc9128_reproj1_arry_r.append(fits.getdata(name))\n",
    "    \n",
    "    \n",
    "for name in ngc4163_reproj1_name_h:\n",
    "    ngc4163_reproj1_arry_h.append(fits.getdata(name))\n",
    "    \n",
    "for name in ngc4163_reproj1_name_r:\n",
    "    ngc4163_reproj1_arry_r.append(fits.getdata(name))\n",
    "\n",
    "    \n",
    "for name in ugc7577_reproj1_name_h:\n",
    "    ugc7577_reproj1_arry_h.append(fits.getdata(name))\n",
    "    \n",
    "for name in ugc7577_reproj1_name_r:\n",
    "    ugc7577_reproj1_arry_r.append(fits.getdata(name))\n",
    "\n",
    "\n",
    "for name in ugc8320_reproj1_name_h:\n",
    "    ugc8320_reproj1_arry_h.append(fits.getdata(name))\n",
    "    \n",
    "for name in ugc8320_reproj1_name_r:\n",
    "    ugc8320_reproj1_arry_r.append(fits.getdata(name))\n",
    "    "
   ]
  },
  {
   "cell_type": "code",
   "execution_count": 200,
   "metadata": {},
   "outputs": [],
   "source": [
    "# #STACKING AND WRITING TO FILE. Stacked by taking the mean of all images in a filter\n",
    "fits.writeto('/media/daniel/disk/observ_final_data/dwarf/stacked/stacked_ic3678_r.fits',np.mean(ic3687_reproj1_arry_r,axis=0),fits.open(get_pkg_data_filename(str(ic3687_reproj1_name_r[0])))[0].header,overwrite=True)\n",
    "fits.writeto('/media/daniel/disk/observ_final_data/dwarf/stacked/stacked_ugc7559_r.fits',np.mean(ugc7559_reproj1_arry_r,axis=0),fits.open(get_pkg_data_filename(str(ugc7559_reproj1_name_r[0])))[0].header,overwrite=True)\n",
    "fits.writeto('/media/daniel/disk/observ_final_data/dwarf/stacked/stacked_ugc7605_r.fits',np.mean(ugc7605_reproj1_arry_r,axis=0),fits.open(get_pkg_data_filename(str(ugc7605_reproj1_name_r[0])))[0].header,overwrite=True)\n",
    "fits.writeto('/media/daniel/disk/observ_final_data/dwarf/stacked/stacked_ugc8651_r.fits',np.mean(ugc8651_reproj1_arry_r,axis=0),fits.open(get_pkg_data_filename(str(ugc8651_reproj1_name_r[0])))[0].header,overwrite=True)\n",
    "fits.writeto('/media/daniel/disk/observ_final_data/dwarf/stacked/stacked_ugc8760_r.fits',np.mean(ugc8760_reproj1_arry_r,axis=0),fits.open(get_pkg_data_filename(str(ugc8760_reproj1_name_r[0])))[0].header,overwrite=True)\n",
    "fits.writeto('/media/daniel/disk/observ_final_data/dwarf/stacked/stacked_ugc9128_r.fits',np.mean(ugc9128_reproj1_arry_r,axis=0),fits.open(get_pkg_data_filename(str(ugc9128_reproj1_name_r[0])))[0].header,overwrite=True)\n",
    "fits.writeto('/media/daniel/disk/observ_final_data/dwarf/stacked/stacked_ngc4163_r.fits',np.mean(ngc4163_reproj1_arry_r,axis=0),fits.open(get_pkg_data_filename(str(ngc4163_reproj1_name_r[0])))[0].header,overwrite=True)\n",
    "fits.writeto('/media/daniel/disk/observ_final_data/dwarf/stacked/stacked_ugc7577_r.fits',np.mean(ugc7577_reproj1_arry_r,axis=0),fits.open(get_pkg_data_filename(str(ugc7577_reproj1_name_r[0])))[0].header,overwrite=True)\n",
    "fits.writeto('/media/daniel/disk/observ_final_data/dwarf/stacked/stacked_ugc8320_r.fits',np.mean(ugc8320_reproj1_arry_r,axis=0),fits.open(get_pkg_data_filename(str(ugc8320_reproj1_name_r[0])))[0].header,overwrite=True)\n",
    "\n",
    "fits.writeto('/media/daniel/disk/observ_final_data/dwarf/stacked/stacked_ic3678_h.fits',np.mean(ic3687_reproj1_arry_h,axis=0),fits.open(get_pkg_data_filename(str(ic3687_reproj1_name_h[0])))[0].header,overwrite=True)\n",
    "fits.writeto('/media/daniel/disk/observ_final_data/dwarf/stacked/stacked_ugc7559_h.fits',np.mean(ugc7559_reproj1_arry_h,axis=0),fits.open(get_pkg_data_filename(str(ugc7559_reproj1_name_h[0])))[0].header,overwrite=True)\n",
    "fits.writeto('/media/daniel/disk/observ_final_data/dwarf/stacked/stacked_ugc7605_h.fits',np.mean(ugc7605_reproj1_arry_h,axis=0),fits.open(get_pkg_data_filename(str(ugc7605_reproj1_name_h[0])))[0].header,overwrite=True)\n",
    "fits.writeto('/media/daniel/disk/observ_final_data/dwarf/stacked/stacked_ugc8651_h.fits',np.mean(ugc8651_reproj1_arry_h,axis=0),fits.open(get_pkg_data_filename(str(ugc8651_reproj1_name_h[0])))[0].header,overwrite=True)\n",
    "fits.writeto('/media/daniel/disk/observ_final_data/dwarf/stacked/stacked_ugc8760_h.fits',np.mean(ugc8760_reproj1_arry_h,axis=0),fits.open(get_pkg_data_filename(str(ugc8760_reproj1_name_h[0])))[0].header,overwrite=True)\n",
    "fits.writeto('/media/daniel/disk/observ_final_data/dwarf/stacked/stacked_ugc9128_h.fits',np.mean(ugc9128_reproj1_arry_h,axis=0),fits.open(get_pkg_data_filename(str(ugc9128_reproj1_name_h[0])))[0].header,overwrite=True)\n",
    "fits.writeto('/media/daniel/disk/observ_final_data/dwarf/stacked/stacked_ngc4163_h.fits',np.mean(ngc4163_reproj1_arry_h,axis=0),fits.open(get_pkg_data_filename(str(ngc4163_reproj1_name_h[0])))[0].header,overwrite=True)\n",
    "fits.writeto('/media/daniel/disk/observ_final_data/dwarf/stacked/stacked_ugc7577_h.fits',np.mean(ugc7577_reproj1_arry_h,axis=0),fits.open(get_pkg_data_filename(str(ugc7577_reproj1_name_h[0])))[0].header,overwrite=True)\n",
    "fits.writeto('/media/daniel/disk/observ_final_data/dwarf/stacked/stacked_ugc8320_h.fits',np.mean(ugc8320_reproj1_arry_h,axis=0),fits.open(get_pkg_data_filename(str(ugc8320_reproj1_name_h[0])))[0].header,overwrite=True)\n",
    "\n"
   ]
  },
  {
   "cell_type": "code",
   "execution_count": 201,
   "metadata": {},
   "outputs": [],
   "source": [
    "def master_reproject(home,reproj,filepath):\n",
    "    master=fits.open(get_pkg_data_filename(home))[0]\n",
    "    reprojection = fits.open(get_pkg_data_filename(reproj))[0]\n",
    "    array, footprint = reproject_interp(reprojection, master.header)\n",
    "    fits.writeto(filepath+'.fits', array, master.header, overwrite=True)\n"
   ]
  },
  {
   "cell_type": "code",
   "execution_count": 203,
   "metadata": {},
   "outputs": [],
   "source": [
    "#Reprojecting h onto r for the master images\n",
    "\n",
    "master_reproject('/media/daniel/disk/observ_final_data/dwarf/stacked/stacked_ic3678_r.fits','/media/daniel/disk/observ_final_data/dwarf/stacked/stacked_ic3678_h.fits','/media/daniel/disk/observ_final_data/dwarf/master/ic3687_master_h')\n",
    "master_reproject('/media/daniel/disk/observ_final_data/dwarf/stacked/stacked_ugc7559_r.fits','/media/daniel/disk/observ_final_data/dwarf/stacked/stacked_ugc7559_h.fits','/media/daniel/disk/observ_final_data/dwarf/master/ugc7559_master_h')\n",
    "master_reproject('/media/daniel/disk/observ_final_data/dwarf/stacked/stacked_ugc7605_r.fits','/media/daniel/disk/observ_final_data/dwarf/stacked/stacked_ugc7605_h.fits','/media/daniel/disk/observ_final_data/dwarf/master/ugc7605_master_h')\n",
    "master_reproject('/media/daniel/disk/observ_final_data/dwarf/stacked/stacked_ugc8651_r.fits','/media/daniel/disk/observ_final_data/dwarf/stacked/stacked_ugc8651_h.fits','/media/daniel/disk/observ_final_data/dwarf/master/ugc8651_master_h')\n",
    "master_reproject('/media/daniel/disk/observ_final_data/dwarf/stacked/stacked_ugc8760_r.fits','/media/daniel/disk/observ_final_data/dwarf/stacked/stacked_ugc8760_h.fits','/media/daniel/disk/observ_final_data/dwarf/master/ugc8760_master_h')\n",
    "master_reproject('/media/daniel/disk/observ_final_data/dwarf/stacked/stacked_ugc9128_r.fits','/media/daniel/disk/observ_final_data/dwarf/stacked/stacked_ugc9128_h.fits','/media/daniel/disk/observ_final_data/dwarf/master/ugc9128_master_h')\n",
    "master_reproject('/media/daniel/disk/observ_final_data/dwarf/stacked/stacked_ngc4163_r.fits','/media/daniel/disk/observ_final_data/dwarf/stacked/stacked_ngc4163_h.fits','/media/daniel/disk/observ_final_data/dwarf/master/ngc4163_master_h')\n",
    "master_reproject('/media/daniel/disk/observ_final_data/dwarf/stacked/stacked_ugc7577_r.fits','/media/daniel/disk/observ_final_data/dwarf/stacked/stacked_ugc7577_h.fits','/media/daniel/disk/observ_final_data/dwarf/master/ugc7577_master_h')\n",
    "master_reproject('/media/daniel/disk/observ_final_data/dwarf/stacked/stacked_ugc8320_r.fits','/media/daniel/disk/observ_final_data/dwarf/stacked/stacked_ugc8320_h.fits','/media/daniel/disk/observ_final_data/dwarf/master/ugc8320_master_h')\n"
   ]
  },
  {
   "cell_type": "code",
   "execution_count": 204,
   "metadata": {},
   "outputs": [],
   "source": [
    "#Reading in each Source Extractor catalog for zeropoint calculations\n",
    "\n",
    "ic3687_cat_r=ascii.read('/media/daniel/disk/observ_final_data/dwarf/master/ic3687r.cat')\n",
    "ugc7559_cat_r=ascii.read('/media/daniel/disk/observ_final_data/dwarf/master/ugc7559r.cat')\n",
    "ugc7605_cat_r=ascii.read('/media/daniel/disk/observ_final_data/dwarf/master/ugc7605r.cat')\n",
    "ugc8651_cat_r=ascii.read('/media/daniel/disk/observ_final_data/dwarf/master/ugc8651r.cat')\n",
    "ugc8760_cat_r=ascii.read('/media/daniel/disk/observ_final_data/dwarf/master/ugc8760r.cat')\n",
    "ugc9128_cat_r=ascii.read('/media/daniel/disk/observ_final_data/dwarf/master/ugc9128r.cat')\n",
    "ngc4163_cat_r=ascii.read('/media/daniel/disk/observ_final_data/dwarf/master/ngc4163r.cat')\n",
    "ugc7577_cat_r=ascii.read('/media/daniel/disk/observ_final_data/dwarf/master/ugc7577r.cat')\n",
    "ugc8320_cat_r=ascii.read('/media/daniel/disk/observ_final_data/dwarf/master/ugc8320r.cat')\n",
    "\n",
    "ic3687_cat_h=ascii.read('/media/daniel/disk/observ_final_data/dwarf/master/ic3687h.cat')\n",
    "ugc7559_cat_h=ascii.read('/media/daniel/disk/observ_final_data/dwarf/master/ugc7559h.cat')\n",
    "ugc7605_cat_h=ascii.read('/media/daniel/disk/observ_final_data/dwarf/master/ugc7605h.cat')\n",
    "ugc8651_cat_h=ascii.read('/media/daniel/disk/observ_final_data/dwarf/master/ugc8651h.cat')\n",
    "ugc8760_cat_h=ascii.read('/media/daniel/disk/observ_final_data/dwarf/master/ugc8760h.cat')\n",
    "ugc9128_cat_h=ascii.read('/media/daniel/disk/observ_final_data/dwarf/master/ugc9128h.cat')\n",
    "ngc4163_cat_h=ascii.read('/media/daniel/disk/observ_final_data/dwarf/master/ngc4163h.cat')\n",
    "ugc7577_cat_h=ascii.read('/media/daniel/disk/observ_final_data/dwarf/master/ugc7577h.cat')\n",
    "ugc8320_cat_h=ascii.read('/media/daniel/disk/observ_final_data/dwarf/master/ugc8320h.cat')\n"
   ]
  },
  {
   "cell_type": "code",
   "execution_count": 205,
   "metadata": {},
   "outputs": [],
   "source": [
    "#Finds the Panstaars matchs for the given catalog in the given band\n",
    "def panstaars_cat(cat, band):\n",
    "    ra=np.array(cat['ALPHA_J2000'])\n",
    "    dec=np.array(cat['DELTA_J2000'])\n",
    "    flux=np.array(cat['FLUX_AUTO'])\n",
    "    g=np.where(flux < 0.0) ; flux[g]=1e-30\n",
    "    mag=(-2.5)*np.log10(flux)\n",
    "    v = Vizier(columns=['RAJ2000', 'DEJ2000', 'rmag','hmag'])\n",
    "    ps_mag=np.zeros(len(ra)) # An empty array to fill with the PS (Pan-STAARS) r-band magnitude for my objects\n",
    "    nr=len(ra) #or len(ra) for full catalog\n",
    "    errcount=0\n",
    "    for i in range(0,nr):\n",
    "        posr = SkyCoord(ra[i]*u.deg, dec[i]*u.deg, frame='icrs') #Make a SkyCoord object for index i of my list of stars\n",
    "        #print(posr)\n",
    "        #Query Vizier for sources within 60 arcsec of this position\n",
    "        try: \n",
    "            resultr=v.query_region(posr,width=\"60s\",catalog='panstarrs')[0] \n",
    "        except IndexError:\n",
    "            errcount+=1 \n",
    "            continue \n",
    "\n",
    "        #if this catalog is empty, need to move on\n",
    "        if len(np.array(resultr['RAJ2000'])) == 0:\n",
    "            print(\"catalog is empty. move on\")\n",
    "            continue\n",
    "\n",
    "        #At this point, I have a lot of sources, since many will be within 60\"\n",
    "        #I only want the closest one, so I need to measure the angular distance\n",
    "        distr=np.zeros(len(resultr[band])) #Set up an empty distance array\n",
    "        trar=np.array(resultr['RAJ2000']) #Make a variable for the PANSTARRS RA array\n",
    "        tdecr=np.array(resultr['DEJ2000']) #Make a variable for the PANSTARRS Dec array\n",
    "        for j in range(len(distr)): #Run a loop over the PANSTARRS objects to measure the distance\n",
    "            tobjr=SkyCoord(trar[j]*u.deg,tdecr[j]*u.deg,frame='icrs')\n",
    "            distr[j]=tobjr.separation(posr).arcsec    \n",
    "\n",
    "        #Now I have the measured distances. I want the closest one, but only if its close enough I'm sure its the same object\n",
    "        #I'll be a little liberal, and assume I've found the closest one if its at < 5\"\n",
    "        r=np.where((distr <= 5.0) & (distr==np.min(distr)))[0]\n",
    "        #print(\"r is\",r)\n",
    "        rcat = np.asarray(resultr[band][r])\n",
    "        if len(rcat) == 0:\n",
    "    #    if not rcat:  #If there is no match, set the mag to some crazy value nowhere near a real value\n",
    "            ps_mag[i]=float(-99)\n",
    "            print(\"No match for index\", i)\n",
    "        else: #If there is a match within 5\", then put the PS r-band magnitude in my array\n",
    "            #print(\"Match for index\", i)\n",
    "            ps_mag[i] = float(rcat[0])\n",
    "    #print(ps_mag[0:i+1])\n",
    "    print('errcount:',errcount)\n",
    "    return ps_mag"
   ]
  },
  {
   "cell_type": "code",
   "execution_count": 206,
   "metadata": {},
   "outputs": [
    {
     "name": "stdout",
     "output_type": "stream",
     "text": [
      "No match for index 1\n",
      "No match for index 3\n",
      "No match for index 4\n",
      "No match for index 5\n",
      "No match for index 6\n",
      "No match for index 7\n",
      "No match for index 8\n",
      "No match for index 9\n",
      "No match for index 10\n",
      "No match for index 11\n",
      "No match for index 12\n",
      "No match for index 14\n",
      "No match for index 17\n",
      "No match for index 18\n",
      "No match for index 19\n",
      "No match for index 26\n",
      "No match for index 28\n",
      "No match for index 40\n",
      "No match for index 67\n",
      "No match for index 80\n",
      "No match for index 87\n",
      "No match for index 89\n",
      "No match for index 95\n",
      "No match for index 121\n",
      "No match for index 135\n",
      "No match for index 146\n",
      "No match for index 147\n",
      "No match for index 153\n",
      "No match for index 155\n",
      "No match for index 166\n",
      "No match for index 171\n",
      "No match for index 176\n",
      "No match for index 182\n",
      "No match for index 184\n",
      "No match for index 185\n",
      "No match for index 186\n",
      "No match for index 188\n",
      "No match for index 190\n",
      "No match for index 193\n",
      "No match for index 195\n",
      "No match for index 196\n",
      "No match for index 197\n",
      "No match for index 198\n",
      "No match for index 200\n",
      "No match for index 202\n",
      "No match for index 205\n",
      "No match for index 206\n",
      "No match for index 209\n",
      "No match for index 210\n",
      "No match for index 211\n",
      "No match for index 212\n",
      "errcount: 0\n"
     ]
    },
    {
     "name": "stderr",
     "output_type": "stream",
     "text": [
      "/home/daniel/miniconda3/lib/python3.7/site-packages/ipykernel_launcher.py:38: RuntimeWarning: invalid value encountered in less_equal\n"
     ]
    },
    {
     "name": "stdout",
     "output_type": "stream",
     "text": [
      "No match for index 3\n",
      "No match for index 7\n",
      "No match for index 12\n",
      "No match for index 22\n",
      "No match for index 33\n",
      "No match for index 38\n",
      "No match for index 41\n",
      "No match for index 65\n",
      "No match for index 73\n",
      "No match for index 76\n",
      "No match for index 80\n",
      "No match for index 81\n",
      "No match for index 98\n",
      "No match for index 102\n",
      "No match for index 108\n",
      "No match for index 111\n",
      "No match for index 125\n",
      "No match for index 155\n",
      "No match for index 172\n",
      "No match for index 177\n",
      "No match for index 178\n",
      "No match for index 186\n",
      "No match for index 187\n",
      "No match for index 196\n",
      "No match for index 205\n",
      "No match for index 241\n",
      "No match for index 243\n",
      "errcount: 1\n",
      "No match for index 0\n",
      "No match for index 12\n",
      "No match for index 19\n",
      "No match for index 20\n",
      "No match for index 22\n",
      "No match for index 24\n",
      "No match for index 25\n",
      "No match for index 26\n",
      "No match for index 30\n",
      "No match for index 32\n",
      "No match for index 34\n",
      "No match for index 68\n"
     ]
    },
    {
     "name": "stderr",
     "output_type": "stream",
     "text": [
      "/home/daniel/miniconda3/lib/python3.7/site-packages/ipykernel_launcher.py:38: RuntimeWarning: invalid value encountered in less_equal\n"
     ]
    },
    {
     "name": "stdout",
     "output_type": "stream",
     "text": [
      "No match for index 69\n",
      "No match for index 78\n",
      "No match for index 81\n",
      "No match for index 84\n",
      "No match for index 98\n",
      "No match for index 109\n",
      "No match for index 127\n",
      "No match for index 142\n",
      "No match for index 192\n",
      "No match for index 194\n",
      "No match for index 198\n",
      "No match for index 208\n",
      "No match for index 231\n",
      "errcount: 2\n",
      "No match for index 0\n",
      "No match for index 14\n",
      "No match for index 17\n",
      "No match for index 18\n",
      "No match for index 19\n",
      "No match for index 33\n"
     ]
    },
    {
     "name": "stderr",
     "output_type": "stream",
     "text": [
      "/home/daniel/miniconda3/lib/python3.7/site-packages/ipykernel_launcher.py:38: RuntimeWarning: invalid value encountered in less_equal\n"
     ]
    },
    {
     "name": "stdout",
     "output_type": "stream",
     "text": [
      "No match for index 43\n",
      "No match for index 51\n",
      "No match for index 64\n",
      "No match for index 67\n",
      "No match for index 70\n",
      "No match for index 106\n",
      "No match for index 107\n"
     ]
    },
    {
     "name": "stderr",
     "output_type": "stream",
     "text": [
      "/home/daniel/miniconda3/lib/python3.7/site-packages/ipykernel_launcher.py:38: RuntimeWarning: invalid value encountered in less_equal\n"
     ]
    },
    {
     "name": "stdout",
     "output_type": "stream",
     "text": [
      "No match for index 115\n",
      "No match for index 127\n",
      "No match for index 136\n",
      "No match for index 139\n",
      "No match for index 143\n",
      "No match for index 150\n",
      "No match for index 152\n",
      "No match for index 155\n",
      "No match for index 175\n",
      "No match for index 177\n",
      "No match for index 182\n"
     ]
    },
    {
     "name": "stderr",
     "output_type": "stream",
     "text": [
      "/home/daniel/miniconda3/lib/python3.7/site-packages/ipykernel_launcher.py:38: RuntimeWarning: invalid value encountered in less_equal\n"
     ]
    },
    {
     "name": "stdout",
     "output_type": "stream",
     "text": [
      "No match for index 186\n",
      "No match for index 204\n",
      "No match for index 205\n",
      "No match for index 209\n",
      "No match for index 212\n",
      "No match for index 213\n",
      "No match for index 214\n",
      "No match for index 216\n",
      "No match for index 217\n",
      "No match for index 218\n",
      "No match for index 221\n",
      "No match for index 224\n",
      "No match for index 248\n",
      "No match for index 251\n",
      "No match for index 255\n",
      "No match for index 256\n",
      "No match for index 259\n",
      "No match for index 269\n",
      "errcount: 1\n",
      "No match for index 21\n",
      "No match for index 22\n",
      "No match for index 25\n",
      "No match for index 27\n",
      "No match for index 30\n",
      "No match for index 31\n",
      "No match for index 39\n",
      "No match for index 58\n",
      "No match for index 82\n"
     ]
    },
    {
     "name": "stderr",
     "output_type": "stream",
     "text": [
      "/home/daniel/miniconda3/lib/python3.7/site-packages/ipykernel_launcher.py:38: RuntimeWarning: invalid value encountered in less_equal\n"
     ]
    },
    {
     "name": "stdout",
     "output_type": "stream",
     "text": [
      "No match for index 103\n",
      "No match for index 123\n",
      "No match for index 134\n",
      "No match for index 136\n",
      "errcount: 0\n",
      "No match for index 0\n",
      "No match for index 10\n",
      "No match for index 24\n",
      "No match for index 25\n",
      "No match for index 26\n",
      "No match for index 32\n",
      "No match for index 34\n",
      "No match for index 35\n",
      "No match for index 37\n",
      "No match for index 38\n",
      "No match for index 41\n",
      "No match for index 50\n",
      "No match for index 56\n",
      "No match for index 70\n",
      "No match for index 94\n",
      "No match for index 97\n",
      "No match for index 101\n",
      "No match for index 106\n",
      "No match for index 107\n",
      "No match for index 142\n",
      "No match for index 147\n",
      "No match for index 148\n",
      "No match for index 173\n",
      "No match for index 178\n",
      "No match for index 181\n",
      "No match for index 189\n",
      "No match for index 204\n",
      "No match for index 209\n",
      "No match for index 218\n",
      "No match for index 248\n",
      "errcount: 1\n",
      "No match for index 0\n",
      "No match for index 1\n",
      "No match for index 19\n",
      "No match for index 21\n",
      "No match for index 25\n",
      "No match for index 34\n",
      "No match for index 45\n",
      "No match for index 61\n",
      "No match for index 70\n",
      "No match for index 84\n",
      "No match for index 88\n",
      "No match for index 93\n",
      "No match for index 95\n",
      "No match for index 99\n",
      "No match for index 102\n",
      "No match for index 103\n",
      "No match for index 111\n",
      "No match for index 112\n",
      "No match for index 118\n",
      "No match for index 120\n",
      "No match for index 123\n",
      "No match for index 154\n",
      "No match for index 170\n",
      "No match for index 174\n",
      "No match for index 180\n",
      "No match for index 189\n",
      "No match for index 194\n",
      "No match for index 200\n",
      "No match for index 202\n",
      "No match for index 218\n",
      "No match for index 222\n",
      "No match for index 226\n",
      "No match for index 228\n",
      "No match for index 229\n",
      "No match for index 235\n",
      "No match for index 239\n",
      "No match for index 240\n",
      "No match for index 247\n",
      "No match for index 249\n",
      "No match for index 252\n",
      "No match for index 285\n",
      "No match for index 291\n",
      "No match for index 296\n",
      "No match for index 304\n",
      "No match for index 305\n",
      "No match for index 308\n",
      "No match for index 330\n",
      "No match for index 351\n",
      "No match for index 366\n",
      "No match for index 373\n",
      "No match for index 383\n",
      "No match for index 396\n",
      "No match for index 397\n",
      "No match for index 446\n",
      "No match for index 451\n",
      "No match for index 453\n",
      "No match for index 472\n",
      "No match for index 484\n",
      "No match for index 485\n",
      "No match for index 486\n",
      "No match for index 498\n",
      "No match for index 506\n",
      "No match for index 517\n",
      "No match for index 524\n",
      "No match for index 527\n",
      "No match for index 539\n",
      "No match for index 541\n",
      "No match for index 556\n",
      "No match for index 562\n",
      "No match for index 569\n",
      "No match for index 572\n",
      "No match for index 587\n",
      "No match for index 612\n",
      "No match for index 613\n",
      "No match for index 626\n",
      "No match for index 650\n",
      "No match for index 655\n",
      "No match for index 658\n",
      "No match for index 661\n",
      "No match for index 670\n",
      "No match for index 672\n",
      "No match for index 676\n",
      "No match for index 683\n",
      "No match for index 696\n",
      "No match for index 712\n",
      "No match for index 716\n",
      "No match for index 726\n",
      "No match for index 731\n",
      "No match for index 733\n",
      "No match for index 734\n",
      "No match for index 738\n",
      "No match for index 739\n",
      "No match for index 746\n",
      "No match for index 784\n",
      "No match for index 791\n",
      "No match for index 795\n",
      "No match for index 826\n",
      "No match for index 849\n",
      "No match for index 853\n",
      "No match for index 858\n",
      "No match for index 859\n",
      "No match for index 873\n",
      "No match for index 895\n",
      "No match for index 925\n",
      "No match for index 926\n",
      "No match for index 928\n",
      "errcount: 3\n",
      "No match for index 1\n",
      "No match for index 2\n",
      "No match for index 3\n",
      "No match for index 20\n",
      "No match for index 29\n",
      "No match for index 62\n",
      "No match for index 70\n",
      "No match for index 74\n",
      "No match for index 78\n",
      "No match for index 81\n",
      "No match for index 86\n",
      "No match for index 87\n",
      "No match for index 88\n",
      "No match for index 94\n",
      "No match for index 106\n",
      "No match for index 117\n",
      "No match for index 135\n",
      "No match for index 137\n",
      "No match for index 143\n",
      "No match for index 157\n",
      "No match for index 183\n",
      "No match for index 202\n",
      "No match for index 203\n",
      "No match for index 207\n",
      "No match for index 224\n",
      "No match for index 234\n",
      "No match for index 245\n",
      "No match for index 249\n",
      "No match for index 273\n",
      "No match for index 285\n",
      "No match for index 288\n",
      "No match for index 313\n",
      "No match for index 315\n",
      "No match for index 319\n",
      "No match for index 345\n",
      "No match for index 346\n",
      "No match for index 350\n",
      "No match for index 351\n",
      "No match for index 357\n",
      "No match for index 388\n",
      "No match for index 397\n",
      "No match for index 412\n",
      "No match for index 429\n",
      "No match for index 432\n",
      "No match for index 464\n",
      "No match for index 498\n",
      "No match for index 501\n",
      "No match for index 504\n",
      "No match for index 516\n",
      "No match for index 522\n",
      "No match for index 532\n",
      "No match for index 538\n",
      "No match for index 548\n",
      "No match for index 557\n",
      "No match for index 568\n",
      "No match for index 570\n",
      "No match for index 573\n",
      "No match for index 587\n",
      "No match for index 589\n",
      "No match for index 594\n",
      "No match for index 599\n",
      "No match for index 602\n",
      "No match for index 614\n",
      "No match for index 617\n",
      "No match for index 619\n",
      "No match for index 620\n",
      "No match for index 627\n",
      "No match for index 635\n",
      "No match for index 644\n",
      "No match for index 658\n",
      "No match for index 669\n",
      "No match for index 706\n",
      "No match for index 707\n",
      "No match for index 710\n",
      "No match for index 712\n",
      "No match for index 719\n",
      "No match for index 728\n",
      "No match for index 744\n",
      "No match for index 747\n",
      "No match for index 752\n",
      "No match for index 763\n",
      "No match for index 765\n",
      "No match for index 780\n",
      "No match for index 782\n",
      "No match for index 786\n",
      "No match for index 791\n",
      "No match for index 797\n",
      "No match for index 803\n",
      "No match for index 812\n",
      "No match for index 813\n",
      "No match for index 817\n",
      "No match for index 825\n",
      "No match for index 827\n",
      "No match for index 858\n",
      "No match for index 863\n",
      "No match for index 867\n",
      "No match for index 868\n",
      "errcount: 1\n",
      "No match for index 0\n",
      "No match for index 1\n",
      "No match for index 2\n",
      "No match for index 5\n",
      "No match for index 11\n",
      "No match for index 18\n",
      "No match for index 22\n",
      "No match for index 23\n",
      "No match for index 24\n",
      "No match for index 26\n",
      "No match for index 28\n",
      "No match for index 30\n",
      "No match for index 31\n",
      "No match for index 32\n",
      "No match for index 38\n",
      "No match for index 49\n",
      "No match for index 56\n",
      "No match for index 97\n",
      "No match for index 104\n",
      "No match for index 121\n",
      "No match for index 127\n",
      "No match for index 133\n",
      "No match for index 135\n",
      "No match for index 141\n",
      "No match for index 146\n",
      "No match for index 185\n",
      "No match for index 203\n",
      "No match for index 212\n",
      "No match for index 218\n",
      "No match for index 224\n",
      "No match for index 227\n",
      "No match for index 236\n",
      "No match for index 241\n",
      "No match for index 253\n",
      "No match for index 286\n",
      "No match for index 289\n",
      "No match for index 309\n",
      "No match for index 310\n",
      "No match for index 334\n",
      "No match for index 343\n",
      "No match for index 350\n",
      "No match for index 358\n",
      "No match for index 385\n",
      "No match for index 388\n",
      "No match for index 391\n",
      "No match for index 405\n",
      "No match for index 429\n",
      "No match for index 433\n",
      "No match for index 438\n",
      "No match for index 464\n",
      "No match for index 478\n",
      "No match for index 493\n",
      "No match for index 497\n",
      "No match for index 518\n",
      "No match for index 539\n",
      "No match for index 560\n",
      "No match for index 561\n",
      "No match for index 575\n",
      "No match for index 583\n",
      "No match for index 585\n",
      "No match for index 600\n",
      "No match for index 610\n",
      "No match for index 630\n",
      "No match for index 665\n",
      "No match for index 708\n",
      "No match for index 709\n",
      "No match for index 716\n",
      "No match for index 725\n",
      "No match for index 758\n",
      "No match for index 782\n",
      "No match for index 831\n",
      "No match for index 846\n",
      "No match for index 862\n",
      "No match for index 863\n",
      "No match for index 875\n",
      "No match for index 886\n",
      "No match for index 911\n",
      "No match for index 916\n",
      "No match for index 934\n",
      "No match for index 935\n",
      "No match for index 943\n",
      "No match for index 948\n",
      "No match for index 958\n",
      "No match for index 959\n",
      "No match for index 960\n",
      "No match for index 976\n",
      "No match for index 991\n",
      "No match for index 994\n",
      "No match for index 1000\n",
      "No match for index 1010\n",
      "No match for index 1022\n",
      "No match for index 1038\n",
      "No match for index 1048\n",
      "No match for index 1051\n",
      "No match for index 1077\n",
      "No match for index 1086\n",
      "No match for index 1089\n",
      "No match for index 1090\n",
      "No match for index 1102\n",
      "No match for index 1104\n",
      "No match for index 1111\n",
      "No match for index 1142\n",
      "No match for index 1146\n",
      "No match for index 1151\n",
      "No match for index 1166\n",
      "No match for index 1170\n",
      "No match for index 1189\n",
      "errcount: 0\n",
      "No match for index 1\n",
      "No match for index 3\n",
      "No match for index 4\n",
      "No match for index 5\n",
      "No match for index 6\n",
      "No match for index 7\n",
      "No match for index 8\n",
      "No match for index 9\n",
      "No match for index 10\n",
      "No match for index 11\n",
      "No match for index 12\n",
      "No match for index 14\n",
      "No match for index 17\n",
      "No match for index 18\n",
      "No match for index 19\n"
     ]
    },
    {
     "name": "stdout",
     "output_type": "stream",
     "text": [
      "No match for index 26\n",
      "No match for index 28\n",
      "No match for index 40\n",
      "No match for index 67\n",
      "No match for index 80\n",
      "No match for index 87\n",
      "No match for index 89\n",
      "No match for index 95\n",
      "No match for index 121\n",
      "No match for index 135\n",
      "No match for index 146\n",
      "No match for index 147\n",
      "No match for index 153\n",
      "No match for index 155\n",
      "No match for index 166\n",
      "No match for index 171\n",
      "No match for index 176\n",
      "No match for index 182\n",
      "No match for index 184\n",
      "No match for index 185\n",
      "No match for index 186\n",
      "No match for index 188\n",
      "No match for index 190\n",
      "No match for index 193\n",
      "No match for index 195\n",
      "No match for index 196\n",
      "No match for index 197\n",
      "No match for index 198\n",
      "No match for index 200\n",
      "No match for index 202\n",
      "No match for index 205\n",
      "No match for index 206\n",
      "No match for index 209\n",
      "No match for index 210\n",
      "No match for index 211\n",
      "No match for index 212\n",
      "errcount: 0\n",
      "No match for index 3\n"
     ]
    },
    {
     "name": "stderr",
     "output_type": "stream",
     "text": [
      "/home/daniel/miniconda3/lib/python3.7/site-packages/ipykernel_launcher.py:38: RuntimeWarning: invalid value encountered in less_equal\n"
     ]
    },
    {
     "name": "stdout",
     "output_type": "stream",
     "text": [
      "No match for index 7\n",
      "No match for index 12\n",
      "No match for index 22\n",
      "No match for index 33\n",
      "No match for index 38\n",
      "No match for index 41\n",
      "No match for index 65\n",
      "No match for index 73\n",
      "No match for index 76\n",
      "No match for index 80\n",
      "No match for index 81\n",
      "No match for index 98\n",
      "No match for index 102\n",
      "No match for index 108\n",
      "No match for index 111\n",
      "No match for index 125\n",
      "No match for index 155\n",
      "No match for index 172\n",
      "No match for index 177\n",
      "No match for index 178\n",
      "No match for index 186\n",
      "No match for index 187\n",
      "No match for index 196\n",
      "No match for index 205\n",
      "No match for index 241\n",
      "No match for index 243\n",
      "errcount: 1\n",
      "No match for index 0\n",
      "No match for index 12\n",
      "No match for index 19\n",
      "No match for index 20\n",
      "No match for index 22\n",
      "No match for index 24\n",
      "No match for index 25\n",
      "No match for index 26\n",
      "No match for index 30\n",
      "No match for index 32\n",
      "No match for index 34\n",
      "No match for index 68\n",
      "No match for index 69\n",
      "No match for index 78\n"
     ]
    },
    {
     "name": "stderr",
     "output_type": "stream",
     "text": [
      "/home/daniel/miniconda3/lib/python3.7/site-packages/ipykernel_launcher.py:38: RuntimeWarning: invalid value encountered in less_equal\n"
     ]
    },
    {
     "name": "stdout",
     "output_type": "stream",
     "text": [
      "No match for index 81\n",
      "No match for index 84\n",
      "No match for index 98\n",
      "No match for index 109\n",
      "No match for index 127\n",
      "No match for index 142\n",
      "No match for index 192\n",
      "No match for index 194\n",
      "No match for index 198\n",
      "No match for index 208\n",
      "No match for index 231\n",
      "errcount: 2\n",
      "No match for index 0\n",
      "No match for index 14\n",
      "No match for index 17\n",
      "No match for index 18\n",
      "No match for index 19\n",
      "No match for index 33\n",
      "No match for index 43\n"
     ]
    },
    {
     "name": "stderr",
     "output_type": "stream",
     "text": [
      "/home/daniel/miniconda3/lib/python3.7/site-packages/ipykernel_launcher.py:38: RuntimeWarning: invalid value encountered in less_equal\n"
     ]
    },
    {
     "name": "stdout",
     "output_type": "stream",
     "text": [
      "No match for index 51\n",
      "No match for index 64\n",
      "No match for index 67\n",
      "No match for index 70\n",
      "No match for index 106\n",
      "No match for index 107\n",
      "No match for index 115\n"
     ]
    },
    {
     "name": "stderr",
     "output_type": "stream",
     "text": [
      "/home/daniel/miniconda3/lib/python3.7/site-packages/ipykernel_launcher.py:38: RuntimeWarning: invalid value encountered in less_equal\n"
     ]
    },
    {
     "name": "stdout",
     "output_type": "stream",
     "text": [
      "No match for index 127\n",
      "No match for index 136\n",
      "No match for index 139\n",
      "No match for index 143\n",
      "No match for index 150\n",
      "No match for index 152\n",
      "No match for index 155\n",
      "No match for index 175\n",
      "No match for index 177\n",
      "No match for index 182\n"
     ]
    },
    {
     "name": "stderr",
     "output_type": "stream",
     "text": [
      "/home/daniel/miniconda3/lib/python3.7/site-packages/ipykernel_launcher.py:38: RuntimeWarning: invalid value encountered in less_equal\n"
     ]
    },
    {
     "name": "stdout",
     "output_type": "stream",
     "text": [
      "No match for index 186\n",
      "No match for index 204\n",
      "No match for index 205\n",
      "No match for index 209\n",
      "No match for index 212\n",
      "No match for index 213\n",
      "No match for index 214\n",
      "No match for index 216\n",
      "No match for index 217\n",
      "No match for index 218\n",
      "No match for index 221\n",
      "No match for index 224\n",
      "No match for index 248\n",
      "No match for index 251\n",
      "No match for index 255\n",
      "No match for index 256\n",
      "No match for index 259\n",
      "No match for index 269\n",
      "errcount: 1\n"
     ]
    },
    {
     "name": "stderr",
     "output_type": "stream",
     "text": [
      "/home/daniel/miniconda3/lib/python3.7/site-packages/ipykernel_launcher.py:7: RuntimeWarning: divide by zero encountered in log10\n",
      "  import sys\n"
     ]
    },
    {
     "name": "stdout",
     "output_type": "stream",
     "text": [
      "No match for index 21\n",
      "No match for index 22\n",
      "No match for index 25\n",
      "No match for index 27\n",
      "No match for index 30\n",
      "No match for index 31\n",
      "No match for index 39\n",
      "No match for index 58\n",
      "No match for index 82\n"
     ]
    },
    {
     "name": "stderr",
     "output_type": "stream",
     "text": [
      "/home/daniel/miniconda3/lib/python3.7/site-packages/ipykernel_launcher.py:38: RuntimeWarning: invalid value encountered in less_equal\n"
     ]
    },
    {
     "name": "stdout",
     "output_type": "stream",
     "text": [
      "No match for index 103\n",
      "No match for index 123\n",
      "No match for index 134\n",
      "No match for index 136\n",
      "errcount: 0\n",
      "No match for index 0\n"
     ]
    },
    {
     "name": "stderr",
     "output_type": "stream",
     "text": [
      "/home/daniel/miniconda3/lib/python3.7/site-packages/ipykernel_launcher.py:7: RuntimeWarning: divide by zero encountered in log10\n",
      "  import sys\n"
     ]
    },
    {
     "name": "stdout",
     "output_type": "stream",
     "text": [
      "No match for index 10\n",
      "No match for index 24\n",
      "No match for index 25\n",
      "No match for index 26\n",
      "No match for index 32\n",
      "No match for index 34\n",
      "No match for index 35\n",
      "No match for index 37\n",
      "No match for index 38\n",
      "No match for index 41\n",
      "No match for index 50\n",
      "No match for index 56\n",
      "No match for index 70\n",
      "No match for index 94\n",
      "No match for index 97\n",
      "No match for index 101\n",
      "No match for index 106\n",
      "No match for index 107\n",
      "No match for index 142\n",
      "No match for index 147\n",
      "No match for index 148\n",
      "No match for index 173\n",
      "No match for index 178\n",
      "No match for index 181\n",
      "No match for index 189\n",
      "No match for index 204\n",
      "No match for index 209\n",
      "No match for index 218\n",
      "No match for index 248\n",
      "errcount: 1\n",
      "No match for index 0\n",
      "No match for index 1\n"
     ]
    },
    {
     "name": "stderr",
     "output_type": "stream",
     "text": [
      "/home/daniel/miniconda3/lib/python3.7/site-packages/ipykernel_launcher.py:7: RuntimeWarning: divide by zero encountered in log10\n",
      "  import sys\n"
     ]
    },
    {
     "name": "stdout",
     "output_type": "stream",
     "text": [
      "No match for index 19\n",
      "No match for index 21\n",
      "No match for index 25\n",
      "No match for index 34\n",
      "No match for index 45\n",
      "No match for index 61\n",
      "No match for index 70\n",
      "No match for index 84\n",
      "No match for index 88\n",
      "No match for index 93\n",
      "No match for index 95\n",
      "No match for index 99\n",
      "No match for index 102\n",
      "No match for index 103\n",
      "No match for index 111\n",
      "No match for index 112\n",
      "No match for index 118\n",
      "No match for index 120\n",
      "No match for index 123\n",
      "No match for index 154\n",
      "No match for index 170\n",
      "No match for index 174\n",
      "No match for index 180\n",
      "No match for index 189\n",
      "No match for index 194\n",
      "No match for index 200\n",
      "No match for index 202\n",
      "No match for index 218\n",
      "No match for index 222\n",
      "No match for index 226\n",
      "No match for index 228\n",
      "No match for index 229\n",
      "No match for index 235\n",
      "No match for index 239\n",
      "No match for index 240\n",
      "No match for index 247\n",
      "No match for index 249\n",
      "No match for index 252\n",
      "No match for index 285\n",
      "No match for index 291\n",
      "No match for index 296\n",
      "No match for index 304\n",
      "No match for index 305\n",
      "No match for index 308\n",
      "No match for index 330\n",
      "No match for index 351\n",
      "No match for index 366\n",
      "No match for index 373\n",
      "No match for index 383\n",
      "No match for index 396\n",
      "No match for index 397\n",
      "No match for index 446\n",
      "No match for index 451\n",
      "No match for index 453\n",
      "No match for index 472\n",
      "No match for index 484\n",
      "No match for index 485\n",
      "No match for index 486\n",
      "No match for index 498\n",
      "No match for index 506\n",
      "No match for index 517\n",
      "No match for index 524\n",
      "No match for index 527\n",
      "No match for index 539\n",
      "No match for index 541\n",
      "No match for index 556\n",
      "No match for index 562\n",
      "No match for index 569\n",
      "No match for index 572\n",
      "No match for index 587\n",
      "No match for index 612\n",
      "No match for index 613\n",
      "No match for index 626\n",
      "No match for index 650\n",
      "No match for index 655\n",
      "No match for index 658\n",
      "No match for index 661\n",
      "No match for index 670\n",
      "No match for index 672\n",
      "No match for index 676\n",
      "No match for index 683\n",
      "No match for index 696\n",
      "No match for index 712\n",
      "No match for index 716\n",
      "No match for index 726\n",
      "No match for index 731\n",
      "No match for index 733\n",
      "No match for index 734\n",
      "No match for index 738\n",
      "No match for index 739\n",
      "No match for index 746\n",
      "No match for index 784\n",
      "No match for index 791\n",
      "No match for index 795\n",
      "No match for index 826\n",
      "No match for index 849\n",
      "No match for index 853\n",
      "No match for index 858\n",
      "No match for index 859\n",
      "No match for index 873\n",
      "No match for index 895\n",
      "No match for index 925\n",
      "No match for index 926\n",
      "No match for index 928\n",
      "errcount: 3\n",
      "No match for index 1\n",
      "No match for index 2\n",
      "No match for index 3\n",
      "No match for index 20\n",
      "No match for index 29\n",
      "No match for index 62\n",
      "No match for index 70\n",
      "No match for index 74\n",
      "No match for index 78\n",
      "No match for index 81\n",
      "No match for index 86\n",
      "No match for index 87\n",
      "No match for index 88\n",
      "No match for index 94\n",
      "No match for index 106\n",
      "No match for index 117\n",
      "No match for index 135\n",
      "No match for index 137\n",
      "No match for index 143\n",
      "No match for index 157\n",
      "No match for index 183\n",
      "No match for index 202\n",
      "No match for index 203\n",
      "No match for index 207\n",
      "No match for index 224\n",
      "No match for index 234\n",
      "No match for index 245\n",
      "No match for index 249\n",
      "No match for index 273\n",
      "No match for index 285\n",
      "No match for index 288\n",
      "No match for index 313\n",
      "No match for index 315\n",
      "No match for index 319\n",
      "No match for index 345\n",
      "No match for index 346\n",
      "No match for index 350\n",
      "No match for index 351\n",
      "No match for index 357\n",
      "No match for index 388\n",
      "No match for index 397\n",
      "No match for index 412\n",
      "No match for index 429\n",
      "No match for index 432\n",
      "No match for index 464\n",
      "No match for index 498\n",
      "No match for index 501\n",
      "No match for index 504\n",
      "No match for index 516\n",
      "No match for index 522\n",
      "No match for index 532\n",
      "No match for index 538\n",
      "No match for index 548\n",
      "No match for index 557\n",
      "No match for index 568\n",
      "No match for index 570\n",
      "No match for index 573\n",
      "No match for index 587\n",
      "No match for index 589\n",
      "No match for index 594\n",
      "No match for index 599\n",
      "No match for index 602\n",
      "No match for index 614\n",
      "No match for index 617\n",
      "No match for index 619\n",
      "No match for index 620\n",
      "No match for index 627\n",
      "No match for index 635\n",
      "No match for index 644\n",
      "No match for index 658\n",
      "No match for index 669\n",
      "No match for index 706\n",
      "No match for index 707\n",
      "No match for index 710\n",
      "No match for index 712\n",
      "No match for index 719\n",
      "No match for index 728\n",
      "No match for index 744\n",
      "No match for index 747\n",
      "No match for index 752\n",
      "No match for index 763\n",
      "No match for index 765\n",
      "No match for index 780\n",
      "No match for index 782\n",
      "No match for index 786\n",
      "No match for index 791\n",
      "No match for index 797\n",
      "No match for index 803\n",
      "No match for index 812\n",
      "No match for index 813\n",
      "No match for index 817\n",
      "No match for index 825\n",
      "No match for index 827\n",
      "No match for index 858\n",
      "No match for index 863\n",
      "No match for index 867\n",
      "No match for index 868\n",
      "errcount: 1\n"
     ]
    },
    {
     "name": "stderr",
     "output_type": "stream",
     "text": [
      "/home/daniel/miniconda3/lib/python3.7/site-packages/ipykernel_launcher.py:7: RuntimeWarning: divide by zero encountered in log10\n",
      "  import sys\n"
     ]
    },
    {
     "name": "stdout",
     "output_type": "stream",
     "text": [
      "No match for index 0\n",
      "No match for index 1\n",
      "No match for index 2\n",
      "No match for index 5\n",
      "No match for index 11\n",
      "No match for index 18\n",
      "No match for index 22\n",
      "No match for index 23\n",
      "No match for index 24\n",
      "No match for index 26\n",
      "No match for index 28\n",
      "No match for index 30\n",
      "No match for index 31\n",
      "No match for index 32\n",
      "No match for index 38\n",
      "No match for index 49\n",
      "No match for index 56\n",
      "No match for index 97\n",
      "No match for index 104\n",
      "No match for index 121\n",
      "No match for index 127\n",
      "No match for index 133\n",
      "No match for index 135\n",
      "No match for index 141\n",
      "No match for index 146\n",
      "No match for index 185\n",
      "No match for index 203\n",
      "No match for index 212\n",
      "No match for index 218\n",
      "No match for index 224\n",
      "No match for index 227\n",
      "No match for index 236\n",
      "No match for index 241\n",
      "No match for index 253\n",
      "No match for index 286\n",
      "No match for index 289\n",
      "No match for index 309\n",
      "No match for index 310\n",
      "No match for index 334\n",
      "No match for index 343\n",
      "No match for index 350\n",
      "No match for index 358\n",
      "No match for index 385\n",
      "No match for index 388\n",
      "No match for index 391\n",
      "No match for index 405\n",
      "No match for index 429\n",
      "No match for index 433\n",
      "No match for index 438\n",
      "No match for index 464\n",
      "No match for index 478\n",
      "No match for index 493\n",
      "No match for index 497\n",
      "No match for index 518\n",
      "No match for index 539\n",
      "No match for index 560\n",
      "No match for index 561\n",
      "No match for index 575\n",
      "No match for index 583\n",
      "No match for index 585\n",
      "No match for index 600\n",
      "No match for index 610\n",
      "No match for index 630\n",
      "No match for index 665\n",
      "No match for index 708\n",
      "No match for index 709\n",
      "No match for index 716\n",
      "No match for index 725\n",
      "No match for index 758\n",
      "No match for index 782\n",
      "No match for index 831\n",
      "No match for index 846\n",
      "No match for index 862\n",
      "No match for index 863\n",
      "No match for index 875\n",
      "No match for index 886\n",
      "No match for index 911\n",
      "No match for index 916\n",
      "No match for index 934\n",
      "No match for index 935\n",
      "No match for index 943\n",
      "No match for index 948\n",
      "No match for index 958\n",
      "No match for index 959\n",
      "No match for index 960\n",
      "No match for index 976\n",
      "No match for index 991\n",
      "No match for index 994\n",
      "No match for index 1000\n",
      "No match for index 1010\n",
      "No match for index 1022\n",
      "No match for index 1038\n",
      "No match for index 1048\n",
      "No match for index 1051\n",
      "No match for index 1077\n",
      "No match for index 1086\n",
      "No match for index 1089\n",
      "No match for index 1090\n",
      "No match for index 1102\n",
      "No match for index 1104\n",
      "No match for index 1111\n",
      "No match for index 1142\n",
      "No match for index 1146\n",
      "No match for index 1151\n",
      "No match for index 1166\n",
      "No match for index 1170\n",
      "No match for index 1189\n",
      "errcount: 0\n"
     ]
    }
   ],
   "source": [
    "#getting panstaars mags for all bands and objects\n",
    "ic3687_ps_rmag=panstaars_cat(ic3687_cat_r,'rmag')\n",
    "ugc7559_ps_rmag=panstaars_cat(ugc7559_cat_r,'rmag')\n",
    "ugc7605_ps_rmag=panstaars_cat(ugc7605_cat_r,'rmag')\n",
    "ugc8651_ps_rmag=panstaars_cat(ugc8651_cat_r,'rmag')\n",
    "ugc8760_ps_rmag=panstaars_cat(ugc8760_cat_r,'rmag')\n",
    "ugc9128_ps_rmag=panstaars_cat(ugc9128_cat_r,'rmag')\n",
    "ngc4163_ps_rmag=panstaars_cat(ngc4163_cat_r,'rmag')\n",
    "ugc7577_ps_rmag=panstaars_cat(ugc7577_cat_r,'rmag')\n",
    "ugc8320_ps_rmag=panstaars_cat(ugc8320_cat_r,'rmag')\n",
    "\n",
    "ic3687_ps_hmag=panstaars_cat(ic3687_cat_h,'rmag')\n",
    "ugc7559_ps_hmag=panstaars_cat(ugc7559_cat_h,'rmag')\n",
    "ugc7605_ps_hmag=panstaars_cat(ugc7605_cat_h,'rmag')\n",
    "ugc8651_ps_hmag=panstaars_cat(ugc8651_cat_h,'rmag')\n",
    "ugc8760_ps_hmag=panstaars_cat(ugc8760_cat_h,'rmag')\n",
    "ugc9128_ps_hmag=panstaars_cat(ugc9128_cat_h,'rmag')\n",
    "ngc4163_ps_hmag=panstaars_cat(ngc4163_cat_h,'rmag')\n",
    "ugc7577_ps_hmag=panstaars_cat(ugc7577_cat_h,'rmag')\n",
    "ugc8320_ps_hmag=panstaars_cat(ugc8320_cat_h,'rmag')\n"
   ]
  },
  {
   "cell_type": "code",
   "execution_count": 207,
   "metadata": {},
   "outputs": [],
   "source": [
    "def mag(flux_arry):#just a helpful little method to calculate magnitudes from flux\n",
    "    return -2.5*np.log10(flux_arry)"
   ]
  },
  {
   "cell_type": "code",
   "execution_count": 208,
   "metadata": {},
   "outputs": [],
   "source": [
    "#graphs correlation between Panstaars mags and instrumental mags args[0]=xmin, args[1]=xmax, args[2]=ymin, args[3]=ymax\n",
    "def zp_helper(ps, mag, *args):\n",
    "    index=np.where(ps>0)\n",
    "    plt.figure()\n",
    "    plt.scatter(ps[index],ps[index]-mag[index], s=0.5)\n",
    "    if len(args)>0:\n",
    "        plt.xlim(args[0],args[1])\n",
    "        plt.ylim(args[2],args[3])"
   ]
  },
  {
   "cell_type": "code",
   "execution_count": 209,
   "metadata": {},
   "outputs": [],
   "source": [
    "def zp_helper_nice(ps, mag, title, band, *args):#graphs correlation between Panstaars mags and instrumental mags with extra options for displaying\n",
    "    index=np.where(ps>0)\n",
    "    plt.figure()\n",
    "    plt.scatter(ps[index],ps[index]-mag[index], s=0.5)\n",
    "    plt.title(title, fontsize=20)\n",
    "    plt.xlabel('Panstaars '+band+'mag',fontsize=14)\n",
    "    plt.ylabel('Panstaars '+band+'mag - Instrumental '+band+'mag',fontsize=14)\n",
    "    if len(args)>0:\n",
    "        plt.xlim(args[0],args[1])\n",
    "        plt.ylim(args[2],args[3])\n",
    "    plt.savefig(title,bbox_inches='tight', dpi=300)"
   ]
  },
  {
   "cell_type": "code",
   "execution_count": 210,
   "metadata": {},
   "outputs": [],
   "source": [
    "def zp_calc(ps,mag,xmin,xmax,ymin,ymax):#returns the zeropoint\n",
    "    index=np.where((ps<xmax)&(ps>xmin)&((ps-mag)<ymax)&((ps-mag)>ymin))\n",
    "    zp=np.nanmedian(ps[index]-mag[index])\n",
    "    print('zp:',zp)\n",
    "    return zp"
   ]
  },
  {
   "cell_type": "code",
   "execution_count": 211,
   "metadata": {},
   "outputs": [
    {
     "name": "stderr",
     "output_type": "stream",
     "text": [
      "/home/daniel/miniconda3/lib/python3.7/site-packages/ipykernel_launcher.py:2: RuntimeWarning: invalid value encountered in log10\n",
      "  \n",
      "/home/daniel/miniconda3/lib/python3.7/site-packages/ipykernel_launcher.py:2: RuntimeWarning: divide by zero encountered in log10\n",
      "  \n"
     ]
    }
   ],
   "source": [
    "#converting from Fluxes to magnitudes\n",
    "ic3687_mag_r=mag(ic3687_cat_r['FLUX_AUTO'])\n",
    "ugc7559_mag_r=mag(ugc7559_cat_r['FLUX_AUTO'])\n",
    "ugc7605_mag_r=mag(ugc7605_cat_r['FLUX_AUTO'])\n",
    "ugc8651_mag_r=mag(ugc8651_cat_r['FLUX_AUTO'])\n",
    "ugc8760_mag_r=mag(ugc8760_cat_r['FLUX_AUTO'])\n",
    "ugc9128_mag_r=mag(ugc9128_cat_r['FLUX_AUTO'])\n",
    "ngc4163_mag_r=mag(ngc4163_cat_r['FLUX_AUTO'])\n",
    "ugc7577_mag_r=mag(ugc7577_cat_r['FLUX_AUTO'])\n",
    "ugc8320_mag_r=mag(ugc8320_cat_r['FLUX_AUTO'])\n",
    "\n",
    "ic3687_mag_h=mag(ic3687_cat_h['FLUX_AUTO'])\n",
    "ugc7559_mag_h=mag(ugc7559_cat_h['FLUX_AUTO'])\n",
    "ugc7605_mag_h=mag(ugc7605_cat_h['FLUX_AUTO'])\n",
    "ugc8651_mag_h=mag(ugc8651_cat_h['FLUX_AUTO'])\n",
    "ugc8760_mag_h=mag(ugc8760_cat_h['FLUX_AUTO'])\n",
    "ugc9128_mag_h=mag(ugc9128_cat_h['FLUX_AUTO'])\n",
    "ngc4163_mag_h=mag(ngc4163_cat_h['FLUX_AUTO'])\n",
    "ugc7577_mag_h=mag(ugc7577_cat_h['FLUX_AUTO'])\n",
    "ugc8320_mag_h=mag(ugc8320_cat_h['FLUX_AUTO'])\n",
    "\n"
   ]
  },
  {
   "cell_type": "code",
   "execution_count": 225,
   "metadata": {
    "scrolled": true
   },
   "outputs": [
    {
     "name": "stderr",
     "output_type": "stream",
     "text": [
      "/home/daniel/miniconda3/lib/python3.7/site-packages/ipykernel_launcher.py:3: RuntimeWarning: invalid value encountered in greater\n",
      "  This is separate from the ipykernel package so we can avoid doing imports until\n",
      "/home/daniel/miniconda3/lib/python3.7/site-packages/ipykernel_launcher.py:2: RuntimeWarning: invalid value encountered in less\n",
      "  \n",
      "/home/daniel/miniconda3/lib/python3.7/site-packages/ipykernel_launcher.py:2: RuntimeWarning: invalid value encountered in greater\n",
      "  \n"
     ]
    },
    {
     "name": "stdout",
     "output_type": "stream",
     "text": [
      "zp: 21.467409584447687\n",
      "zp: 19.4846024062565\n"
     ]
    },
    {
     "data": {
      "image/png": "[encoded data removed]",
      "text/plain": [
       "<Figure size 432x288 with 1 Axes>"
      ]
     },
     "metadata": {
      "needs_background": "light"
     },
     "output_type": "display_data"
    },
    {
     "data": {
      "image/png": "[encoded data removed]",
      "text/plain": [
       "<Figure size 432x288 with 1 Axes>"
      ]
     },
     "metadata": {
      "needs_background": "light"
     },
     "output_type": "display_data"
    }
   ],
   "source": [
    "#Beginning of zeropoint calculations\n",
    "#ic3687\n",
    "zp_helper(ic3687_ps_rmag,ic3687_mag_r,13,19,20,22)\n",
    "zp_ic3687_r=zp_calc(ic3687_ps_rmag,ic3687_mag_r,15,18.5,21.25,21.6)\n",
    "zp_helper(ic3687_ps_hmag, ic3687_mag_h,14,20,19,20)\n",
    "zp_ic3687_h=zp_calc(ic3687_ps_hmag, ic3687_mag_h,14,18,19.3,19.6)\n",
    "\n",
    "#,13,19,19,21"
   ]
  },
  {
   "cell_type": "code",
   "execution_count": 152,
   "metadata": {},
   "outputs": [],
   "source": [
    "#zp_helper_nice(ps_rmag_m51, rmag_m51, 'M51 Panstaars R-band Correlation','R')"
   ]
  },
  {
   "cell_type": "code",
   "execution_count": 227,
   "metadata": {
    "scrolled": true
   },
   "outputs": [
    {
     "name": "stderr",
     "output_type": "stream",
     "text": [
      "/home/daniel/miniconda3/lib/python3.7/site-packages/ipykernel_launcher.py:3: RuntimeWarning: invalid value encountered in greater\n",
      "  This is separate from the ipykernel package so we can avoid doing imports until\n",
      "/home/daniel/miniconda3/lib/python3.7/site-packages/ipykernel_launcher.py:2: RuntimeWarning: invalid value encountered in less\n",
      "  \n",
      "/home/daniel/miniconda3/lib/python3.7/site-packages/ipykernel_launcher.py:2: RuntimeWarning: invalid value encountered in greater\n",
      "  \n"
     ]
    },
    {
     "name": "stdout",
     "output_type": "stream",
     "text": [
      "zp: 21.542745829290467\n",
      "zp: 19.522300888171596\n"
     ]
    },
    {
     "data": {
      "image/png": "[encoded data removed]",
      "text/plain": [
       "<Figure size 432x288 with 1 Axes>"
      ]
     },
     "metadata": {
      "needs_background": "light"
     },
     "output_type": "display_data"
    },
    {
     "data": {
      "image/png": "[encoded data removed]",
      "text/plain": [
       "<Figure size 432x288 with 1 Axes>"
      ]
     },
     "metadata": {
      "needs_background": "light"
     },
     "output_type": "display_data"
    }
   ],
   "source": [
    "#ugc7559 zeropoint calculation\n",
    "zp_helper(ugc7559_ps_rmag,ugc7559_mag_r,13,19,21,22)\n",
    "zp_ugc7559_r=zp_calc(ugc7559_ps_rmag,ugc7559_mag_r,14,18,21.4,21.6)\n",
    "zp_helper(ugc7559_ps_hmag, ugc7559_mag_h,12,20,18.8,20)\n",
    "zp_ugc7559_h=zp_calc(ugc7559_ps_hmag, ugc7559_mag_h,13,19,19.4,19.6)"
   ]
  },
  {
   "cell_type": "code",
   "execution_count": 229,
   "metadata": {
    "scrolled": true
   },
   "outputs": [
    {
     "name": "stderr",
     "output_type": "stream",
     "text": [
      "/home/daniel/miniconda3/lib/python3.7/site-packages/ipykernel_launcher.py:3: RuntimeWarning: invalid value encountered in greater\n",
      "  This is separate from the ipykernel package so we can avoid doing imports until\n",
      "/home/daniel/miniconda3/lib/python3.7/site-packages/ipykernel_launcher.py:2: RuntimeWarning: invalid value encountered in less\n",
      "  \n",
      "/home/daniel/miniconda3/lib/python3.7/site-packages/ipykernel_launcher.py:2: RuntimeWarning: invalid value encountered in greater\n",
      "  \n"
     ]
    },
    {
     "name": "stdout",
     "output_type": "stream",
     "text": [
      "zp: 21.525753147789217\n",
      "zp: 19.502082558520357\n"
     ]
    },
    {
     "data": {
      "image/png": "[encoded data removed]",
      "text/plain": [
       "<Figure size 432x288 with 1 Axes>"
      ]
     },
     "metadata": {
      "needs_background": "light"
     },
     "output_type": "display_data"
    },
    {
     "data": {
      "image/png": "[encoded data removed]",
      "text/plain": [
       "<Figure size 432x288 with 1 Axes>"
      ]
     },
     "metadata": {
      "needs_background": "light"
     },
     "output_type": "display_data"
    }
   ],
   "source": [
    "#ugc7605 zeropoint calculation\n",
    "zp_helper(ugc7605_ps_rmag,ugc7605_mag_r,13,19,21,22)\n",
    "zp_ugc7605_r=zp_calc(ugc7605_ps_rmag,ugc7605_mag_r,14,18,21.4,21.6)\n",
    "zp_helper(ugc7605_ps_hmag, ugc7605_mag_h,13,19,19,20)\n",
    "zp_ugc7605_h=zp_calc(ugc7605_ps_hmag, ugc7605_mag_h,13,19,19.4,19.6)"
   ]
  },
  {
   "cell_type": "code",
   "execution_count": 230,
   "metadata": {
    "scrolled": true
   },
   "outputs": [
    {
     "name": "stderr",
     "output_type": "stream",
     "text": [
      "/home/daniel/miniconda3/lib/python3.7/site-packages/ipykernel_launcher.py:3: RuntimeWarning: invalid value encountered in greater\n",
      "  This is separate from the ipykernel package so we can avoid doing imports until\n",
      "/home/daniel/miniconda3/lib/python3.7/site-packages/ipykernel_launcher.py:2: RuntimeWarning: invalid value encountered in less\n",
      "  \n",
      "/home/daniel/miniconda3/lib/python3.7/site-packages/ipykernel_launcher.py:2: RuntimeWarning: invalid value encountered in greater\n",
      "  \n"
     ]
    },
    {
     "name": "stdout",
     "output_type": "stream",
     "text": [
      "zp: 21.30726580203436\n",
      "zp: 19.28720833932823\n"
     ]
    },
    {
     "data": {
      "image/png": "[encoded data removed]",
      "text/plain": [
       "<Figure size 432x288 with 1 Axes>"
      ]
     },
     "metadata": {
      "needs_background": "light"
     },
     "output_type": "display_data"
    },
    {
     "data": {
      "image/png": "[encoded data removed]",
      "text/plain": [
       "<Figure size 432x288 with 1 Axes>"
      ]
     },
     "metadata": {
      "needs_background": "light"
     },
     "output_type": "display_data"
    }
   ],
   "source": [
    "#ugc8651 zeropoint calculation\n",
    "zp_helper(ugc8651_ps_rmag,ugc8651_mag_r,14,19,21,22)\n",
    "zp_ugc8651_r=zp_calc(ugc8651_ps_rmag,ugc8651_mag_r,14,18,21.2,21.4)\n",
    "zp_helper(ugc8651_ps_hmag, ugc8651_mag_h,14,19,18.8,20)\n",
    "zp_ugc8651_h=zp_calc(ugc8651_ps_hmag, ugc8651_mag_h,14,18,19,19.5)"
   ]
  },
  {
   "cell_type": "code",
   "execution_count": 233,
   "metadata": {
    "scrolled": true
   },
   "outputs": [
    {
     "name": "stdout",
     "output_type": "stream",
     "text": [
      "zp: 21.49008803017281\n",
      "zp: 19.480140403495426\n"
     ]
    },
    {
     "name": "stderr",
     "output_type": "stream",
     "text": [
      "/home/daniel/miniconda3/lib/python3.7/site-packages/ipykernel_launcher.py:3: RuntimeWarning: invalid value encountered in greater\n",
      "  This is separate from the ipykernel package so we can avoid doing imports until\n",
      "/home/daniel/miniconda3/lib/python3.7/site-packages/ipykernel_launcher.py:2: RuntimeWarning: invalid value encountered in less\n",
      "  \n",
      "/home/daniel/miniconda3/lib/python3.7/site-packages/ipykernel_launcher.py:2: RuntimeWarning: invalid value encountered in greater\n",
      "  \n"
     ]
    },
    {
     "data": {
      "image/png": "[encoded data removed]",
      "text/plain": [
       "<Figure size 432x288 with 1 Axes>"
      ]
     },
     "metadata": {
      "needs_background": "light"
     },
     "output_type": "display_data"
    },
    {
     "data": {
      "image/png": "[encoded data removed]",
      "text/plain": [
       "<Figure size 432x288 with 1 Axes>"
      ]
     },
     "metadata": {
      "needs_background": "light"
     },
     "output_type": "display_data"
    }
   ],
   "source": [
    "#ugc8760 zeropoint calculation\n",
    "zp_helper(ugc8760_ps_rmag,ugc8760_mag_r,14,19,21,22)\n",
    "zp_ugc8760_r=zp_calc(ugc8760_ps_rmag,ugc8760_mag_r,14,18.5,21.4,21.6)\n",
    "zp_helper(ugc8760_ps_hmag, ugc8760_mag_h,14,19,19,20)\n",
    "zp_ugc8760_h=zp_calc(ugc8760_ps_hmag, ugc8760_mag_h,14,19,19.3,19.6)"
   ]
  },
  {
   "cell_type": "code",
   "execution_count": 234,
   "metadata": {},
   "outputs": [
    {
     "name": "stdout",
     "output_type": "stream",
     "text": [
      "zp: 21.48961856160907\n",
      "zp: 19.441645098061045\n"
     ]
    },
    {
     "name": "stderr",
     "output_type": "stream",
     "text": [
      "/home/daniel/miniconda3/lib/python3.7/site-packages/ipykernel_launcher.py:3: RuntimeWarning: invalid value encountered in greater\n",
      "  This is separate from the ipykernel package so we can avoid doing imports until\n",
      "/home/daniel/miniconda3/lib/python3.7/site-packages/ipykernel_launcher.py:2: RuntimeWarning: invalid value encountered in less\n",
      "  \n",
      "/home/daniel/miniconda3/lib/python3.7/site-packages/ipykernel_launcher.py:2: RuntimeWarning: invalid value encountered in greater\n",
      "  \n"
     ]
    },
    {
     "data": {
      "image/png": "[encoded data removed]",
      "text/plain": [
       "<Figure size 432x288 with 1 Axes>"
      ]
     },
     "metadata": {
      "needs_background": "light"
     },
     "output_type": "display_data"
    },
    {
     "data": {
      "image/png": "[encoded data removed]",
      "text/plain": [
       "<Figure size 432x288 with 1 Axes>"
      ]
     },
     "metadata": {
      "needs_background": "light"
     },
     "output_type": "display_data"
    }
   ],
   "source": [
    "#ugc9128 zeropoint calculation\n",
    "zp_helper(ugc9128_ps_rmag,ugc9128_mag_r,14,19,21,22)\n",
    "zp_ugc9128_r=zp_calc(ugc9128_ps_rmag,ugc9128_mag_r,14,18.5,21.38,21.6)\n",
    "zp_helper(ugc9128_ps_hmag, ugc9128_mag_h,14,19,18.8,20)#\n",
    "zp_ugc9128_h=zp_calc(ugc9128_ps_hmag, ugc9128_mag_h,14,18.5,19.3,19.55)"
   ]
  },
  {
   "cell_type": "code",
   "execution_count": 237,
   "metadata": {},
   "outputs": [
    {
     "name": "stderr",
     "output_type": "stream",
     "text": [
      "/home/daniel/miniconda3/lib/python3.7/site-packages/ipykernel_launcher.py:3: RuntimeWarning: invalid value encountered in greater\n",
      "  This is separate from the ipykernel package so we can avoid doing imports until\n",
      "/home/daniel/miniconda3/lib/python3.7/site-packages/ipykernel_launcher.py:2: RuntimeWarning: invalid value encountered in less\n",
      "  \n",
      "/home/daniel/miniconda3/lib/python3.7/site-packages/ipykernel_launcher.py:2: RuntimeWarning: invalid value encountered in greater\n",
      "  \n"
     ]
    },
    {
     "name": "stdout",
     "output_type": "stream",
     "text": [
      "zp: 21.56189006271112\n",
      "zp: 19.52383758600709\n"
     ]
    },
    {
     "data": {
      "image/png": "[encoded data removed]",
      "text/plain": [
       "<Figure size 432x288 with 1 Axes>"
      ]
     },
     "metadata": {
      "needs_background": "light"
     },
     "output_type": "display_data"
    },
    {
     "data": {
      "image/png": "[encoded data removed]",
      "text/plain": [
       "<Figure size 432x288 with 1 Axes>"
      ]
     },
     "metadata": {
      "needs_background": "light"
     },
     "output_type": "display_data"
    }
   ],
   "source": [
    "#ngc4163 zeropoint calculation\n",
    "zp_helper(ngc4163_ps_rmag,ngc4163_mag_r,14,19,21,22)\n",
    "zp_ngc4163_r=zp_calc(ngc4163_ps_rmag,ngc4163_mag_r,14,19,21.5,21.6)\n",
    "zp_helper(ngc4163_ps_hmag, ngc4163_mag_h,13,20,19,20)\n",
    "zp_ngc4163_h=zp_calc(ngc4163_ps_hmag, ngc4163_mag_h,13,19,19.4,19.6)"
   ]
  },
  {
   "cell_type": "code",
   "execution_count": 239,
   "metadata": {},
   "outputs": [
    {
     "name": "stdout",
     "output_type": "stream",
     "text": [
      "zp: 21.399740993470715\n",
      "zp: 19.03280132718279\n"
     ]
    },
    {
     "name": "stderr",
     "output_type": "stream",
     "text": [
      "/home/daniel/miniconda3/lib/python3.7/site-packages/ipykernel_launcher.py:3: RuntimeWarning: invalid value encountered in greater\n",
      "  This is separate from the ipykernel package so we can avoid doing imports until\n",
      "/home/daniel/miniconda3/lib/python3.7/site-packages/ipykernel_launcher.py:2: RuntimeWarning: invalid value encountered in less\n",
      "  \n",
      "/home/daniel/miniconda3/lib/python3.7/site-packages/ipykernel_launcher.py:2: RuntimeWarning: invalid value encountered in greater\n",
      "  \n"
     ]
    },
    {
     "data": {
      "image/png": "[encoded data removed]",
      "text/plain": [
       "<Figure size 432x288 with 1 Axes>"
      ]
     },
     "metadata": {
      "needs_background": "light"
     },
     "output_type": "display_data"
    },
    {
     "data": {
      "image/png": "[encoded data removed]",
      "text/plain": [
       "<Figure size 432x288 with 1 Axes>"
      ]
     },
     "metadata": {
      "needs_background": "light"
     },
     "output_type": "display_data"
    }
   ],
   "source": [
    "#ugc7577 zeropoint calculation\n",
    "zp_helper(ugc7577_ps_rmag,ugc7577_mag_r,14,19,21,22)\n",
    "zp_ugc7577_r=zp_calc(ugc7577_ps_rmag,ugc7577_mag_r,14,19,21.3,21.5)\n",
    "zp_helper(ugc7577_ps_hmag, ugc7577_mag_h,12,19,18,20)\n",
    "zp_ugc7577_h=zp_calc(ugc7577_ps_hmag, ugc7577_mag_h,13,18,18.75,19.25)"
   ]
  },
  {
   "cell_type": "code",
   "execution_count": 242,
   "metadata": {},
   "outputs": [
    {
     "name": "stderr",
     "output_type": "stream",
     "text": [
      "/home/daniel/miniconda3/lib/python3.7/site-packages/ipykernel_launcher.py:3: RuntimeWarning: invalid value encountered in greater\n",
      "  This is separate from the ipykernel package so we can avoid doing imports until\n",
      "/home/daniel/miniconda3/lib/python3.7/site-packages/ipykernel_launcher.py:2: RuntimeWarning: invalid value encountered in less\n",
      "  \n",
      "/home/daniel/miniconda3/lib/python3.7/site-packages/ipykernel_launcher.py:2: RuntimeWarning: invalid value encountered in greater\n",
      "  \n"
     ]
    },
    {
     "name": "stdout",
     "output_type": "stream",
     "text": [
      "zp: 21.562421514508344\n",
      "zp: 19.53121196926285\n"
     ]
    },
    {
     "data": {
      "image/png": "[encoded data removed]",
      "text/plain": [
       "<Figure size 432x288 with 1 Axes>"
      ]
     },
     "metadata": {
      "needs_background": "light"
     },
     "output_type": "display_data"
    },
    {
     "data": {
      "image/png": "[encoded data removed]",
      "text/plain": [
       "<Figure size 432x288 with 1 Axes>"
      ]
     },
     "metadata": {
      "needs_background": "light"
     },
     "output_type": "display_data"
    }
   ],
   "source": [
    "#ugc8320 zeropoint calculation\n",
    "zp_helper(ugc8320_ps_rmag,ugc8320_mag_r,14,19,21,22)\n",
    "zp_ugc8320_r=zp_calc(ugc8320_ps_rmag,ugc8320_mag_r,14,19,21.4,21.65)\n",
    "zp_helper(ugc8320_ps_hmag, ugc8320_mag_h,12,20,19,20.5)\n",
    "zp_ugc8320_h=zp_calc(ugc8320_ps_hmag, ugc8320_mag_h,13,18,19.4,19.6)"
   ]
  },
  {
   "cell_type": "code",
   "execution_count": 244,
   "metadata": {},
   "outputs": [],
   "source": [
    "#loading in master images for zeropoint correction. g,ha,r\n",
    "ic3687_master_r=fits.getdata('/media/daniel/disk/observ_final_data/dwarf/master/ic3687_master_r.fits')\n",
    "ugc7559_master_r=fits.getdata('/media/daniel/disk/observ_final_data/dwarf/master/ugc7559_master_r.fits')\n",
    "ugc7605_master_r=fits.getdata('/media/daniel/disk/observ_final_data/dwarf/master/ugc7605_master_r.fits')\n",
    "ugc8651_master_r=fits.getdata('/media/daniel/disk/observ_final_data/dwarf/master/ugc8651_master_r.fits')\n",
    "ugc8760_master_r=fits.getdata('/media/daniel/disk/observ_final_data/dwarf/master/ugc8760_master_r.fits')\n",
    "ugc9128_master_r=fits.getdata('/media/daniel/disk/observ_final_data/dwarf/master/ugc9128_master_r.fits')\n",
    "ngc4163_master_r=fits.getdata('/media/daniel/disk/observ_final_data/dwarf/master/ngc4163_master_r.fits')\n",
    "ugc7577_master_r=fits.getdata('/media/daniel/disk/observ_final_data/dwarf/master/ugc7577_master_r.fits')\n",
    "ugc8320_master_r=fits.getdata('/media/daniel/disk/observ_final_data/dwarf/master/ugc8320_master_r.fits')\n",
    "\n",
    "ic3687_master_h=fits.getdata('/media/daniel/disk/observ_final_data/dwarf/master/ic3687_master_h.fits')\n",
    "ugc7559_master_h=fits.getdata('/media/daniel/disk/observ_final_data/dwarf/master/ugc7559_master_h.fits')\n",
    "ugc7605_master_h=fits.getdata('/media/daniel/disk/observ_final_data/dwarf/master/ugc7605_master_h.fits')\n",
    "ugc8651_master_h=fits.getdata('/media/daniel/disk/observ_final_data/dwarf/master/ugc8651_master_h.fits')\n",
    "ugc8760_master_h=fits.getdata('/media/daniel/disk/observ_final_data/dwarf/master/ugc8760_master_h.fits')\n",
    "ugc9128_master_h=fits.getdata('/media/daniel/disk/observ_final_data/dwarf/master/ugc9128_master_h.fits')\n",
    "ngc4163_master_h=fits.getdata('/media/daniel/disk/observ_final_data/dwarf/master/ngc4163_master_h.fits')\n",
    "ugc7577_master_h=fits.getdata('/media/daniel/disk/observ_final_data/dwarf/master/ugc7577_master_h.fits')\n",
    "ugc8320_master_h=fits.getdata('/media/daniel/disk/observ_final_data/dwarf/master/ugc8320_master_h.fits')\n",
    "\n",
    "#applying zeropoint to images\n",
    "\n",
    "ic3687_calib_r=ic3687_master_r*10.**(-0.4*48.6-0.4*zp_ic3687_r)*1.0e29\n",
    "ugc7559_calib_r=ugc7559_master_r*10.**(-0.4*48.6-0.4*zp_ugc7559_r)*1.0e29\n",
    "ugc7605_calib_r=ugc7605_master_r*10.**(-0.4*48.6-0.4*zp_ugc7605_r)*1.0e29\n",
    "ugc8651_calib_r=ugc8651_master_r*10.**(-0.4*48.6-0.4*zp_ugc8651_r)*1.0e29\n",
    "ugc8760_calib_r=ugc8760_master_r*10.**(-0.4*48.6-0.4*zp_ugc8760_r)*1.0e29\n",
    "ugc9128_calib_r=ugc9128_master_r*10.**(-0.4*48.6-0.4*zp_ugc9128_r)*1.0e29\n",
    "ngc4163_calib_r=ngc4163_master_r*10.**(-0.4*48.6-0.4*zp_ngc4163_r)*1.0e29\n",
    "ugc7577_calib_r=ugc7577_master_r*10.**(-0.4*48.6-0.4*zp_ugc7577_r)*1.0e29\n",
    "ugc8320_calib_r=ugc8320_master_r*10.**(-0.4*48.6-0.4*zp_ugc8320_r)*1.0e29\n",
    "\n",
    "ic3687_calib_h=ic3687_master_h*10.**(-0.4*48.6-0.4*zp_ic3687_h)*1.0e29\n",
    "ugc7559_calib_h=ugc7559_master_h*10.**(-0.4*48.6-0.4*zp_ugc7559_h)*1.0e29\n",
    "ugc7605_calib_h=ugc7605_master_h*10.**(-0.4*48.6-0.4*zp_ugc7605_h)*1.0e29\n",
    "ugc8651_calib_h=ugc8651_master_h*10.**(-0.4*48.6-0.4*zp_ugc8651_h)*1.0e29\n",
    "ugc8760_calib_h=ugc8760_master_h*10.**(-0.4*48.6-0.4*zp_ugc8760_h)*1.0e29\n",
    "ugc9128_calib_h=ugc9128_master_h*10.**(-0.4*48.6-0.4*zp_ugc9128_h)*1.0e29\n",
    "ngc4163_calib_h=ngc4163_master_h*10.**(-0.4*48.6-0.4*zp_ngc4163_h)*1.0e29\n",
    "ugc7577_calib_h=ugc7577_master_h*10.**(-0.4*48.6-0.4*zp_ugc7577_h)*1.0e29\n",
    "ugc8320_calib_h=ugc8320_master_h*10.**(-0.4*48.6-0.4*zp_ugc8320_h)*1.0e29\n",
    "\n"
   ]
  },
  {
   "cell_type": "code",
   "execution_count": 245,
   "metadata": {},
   "outputs": [],
   "source": [
    "#writes given array to give filepath\n",
    "def writer(arry, filepath):\n",
    "    shot=fits.PrimaryHDU(arry)\n",
    "    shot.writeto(filepath,overwrite=True)"
   ]
  },
  {
   "cell_type": "code",
   "execution_count": 267,
   "metadata": {
    "scrolled": true
   },
   "outputs": [],
   "source": [
    "#creating subimages to isolate galaxy\n",
    "ic3687_sub_r,ic3687_sub_h=np.zeros((75,75)),np.zeros((75,75))\n",
    "ugc7559_sub_r,ugc7559_sub_h=np.zeros((70,80)),np.zeros((70,80))\n",
    "ugc7605_sub_r,ugc7605_sub_h=np.zeros((65,45)),np.zeros((65,45))\n",
    "ugc8651_sub_r,ugc8651_sub_h=np.zeros((50,70)),np.zeros((50,70))\n",
    "ugc8760_sub_r,ugc8760_sub_h=np.zeros((70,55)),np.zeros((70,55))\n",
    "ugc9128_sub_r,ugc9128_sub_h=np.zeros((55,60)),np.zeros((55,60))\n",
    "ngc4163_sub_r,ngc4163_sub_h=np.zeros((90,70)),np.zeros((90,70))\n",
    "ugc7577_sub_r,ugc7577_sub_h=np.zeros((110,105)),np.zeros((110,105))\n",
    "ugc8320_sub_r,ugc8320_sub_h=np.zeros((130,85)),np.zeros((130,85))\n",
    "\n",
    "for x in range(440,515):\n",
    "    for y in range(75,150):\n",
    "        ic3687_sub_r[y-75][x-440]=ic3687_calib_r[y][x]\n",
    "        ic3687_sub_h[y-75][x-440]=ic3687_calib_h[y][x]\n",
    "\n",
    "for x in range(450,530):\n",
    "    for y in range(85,155):\n",
    "        ugc7559_sub_r[y-85][x-450]=ugc7559_calib_r[y][x]\n",
    "        ugc7559_sub_h[y-85][x-450]=ugc7559_calib_h[y][x]\n",
    "        \n",
    "for x in range(460,505):\n",
    "    for y in range(95,160):\n",
    "        ugc7605_sub_r[y-95][x-460]=ugc7605_calib_r[y][x]\n",
    "        ugc7605_sub_h[y-95][x-460]=ugc7605_calib_h[y][x]\n",
    "        \n",
    "for x in range(460,530):\n",
    "    for y in range(80,130):\n",
    "        ugc8651_sub_r[y-80][x-460]=ugc8651_calib_r[y][x]\n",
    "        ugc8651_sub_h[y-80][x-460]=ugc8651_calib_h[y][x]\n",
    "        \n",
    "for x in range(455,510):\n",
    "    for y in range(85,155):\n",
    "        ugc8760_sub_r[y-85][x-455]=ugc8760_calib_r[y][x]\n",
    "        ugc8760_sub_h[y-85][x-455]=ugc8760_calib_h[y][x]\n",
    "        \n",
    "for x in range(445,505):\n",
    "    for y in range(120,175):\n",
    "        ugc9128_sub_r[y-120][x-445]=ugc9128_calib_r[y][x]\n",
    "        ugc9128_sub_h[y-120][x-445]=ugc9128_calib_h[y][x]\n",
    "        \n",
    "for x in range(80,150):\n",
    "    for y in range(595,685):\n",
    "        ngc4163_sub_r[y-595][x-80]=ngc4163_calib_r[y][x]\n",
    "        ngc4163_sub_h[y-595][x-80]=ngc4163_calib_h[y][x]\n",
    "        \n",
    "for x in range(435,540):\n",
    "    for y in range(830,940):\n",
    "        ugc7577_sub_r[y-830][x-435]=ugc7577_calib_r[y][x]\n",
    "        ugc7577_sub_h[y-830][x-435]=ugc7577_calib_h[y][x]\n",
    "        \n",
    "for x in range(770,855):\n",
    "    for y in range(780,910):\n",
    "        ugc8320_sub_r[y-780][x-770]=ugc8320_calib_r[y][x]\n",
    "        ugc8320_sub_h[y-780][x-770]=ugc8320_calib_h[y][x]\n",
    "\n",
    "# #writing to file\n",
    "writer(ic3687_sub_r,'/media/daniel/disk/observ_final_data/dwarf/subimages/ic3687_sub_r.fits')\n",
    "writer(ugc7559_sub_r,'/media/daniel/disk/observ_final_data/dwarf/subimages/ugc7559_sub_r.fits')\n",
    "writer(ugc7605_sub_r,'/media/daniel/disk/observ_final_data/dwarf/subimages/ugc7605_sub_r.fits')\n",
    "writer(ugc8651_sub_r,'/media/daniel/disk/observ_final_data/dwarf/subimages/ugc8651_sub_r.fits')\n",
    "writer(ugc8760_sub_r,'/media/daniel/disk/observ_final_data/dwarf/subimages/ugc8760_sub_r.fits')\n",
    "writer(ugc9128_sub_r,'/media/daniel/disk/observ_final_data/dwarf/subimages/ugc9128_sub_r.fits')\n",
    "writer(ngc4163_sub_r,'/media/daniel/disk/observ_final_data/dwarf/subimages/ngc4163_sub_r.fits')\n",
    "writer(ugc7577_sub_r,'/media/daniel/disk/observ_final_data/dwarf/subimages/ugc7577_sub_r.fits')\n",
    "writer(ugc8320_sub_r,'/media/daniel/disk/observ_final_data/dwarf/subimages/ugc8320_sub_r.fits')\n",
    "\n",
    "writer(ic3687_sub_h,'/media/daniel/disk/observ_final_data/dwarf/subimages/ic3687_sub_h.fits')\n",
    "writer(ugc7559_sub_h,'/media/daniel/disk/observ_final_data/dwarf/subimages/ugc7559_sub_h.fits')\n",
    "writer(ugc7605_sub_h,'/media/daniel/disk/observ_final_data/dwarf/subimages/ugc7605_sub_h.fits')\n",
    "writer(ugc8651_sub_h,'/media/daniel/disk/observ_final_data/dwarf/subimages/ugc8651_sub_h.fits')\n",
    "writer(ugc8760_sub_h,'/media/daniel/disk/observ_final_data/dwarf/subimages/ugc8760_sub_h.fits')\n",
    "writer(ugc9128_sub_h,'/media/daniel/disk/observ_final_data/dwarf/subimages/ugc9128_sub_h.fits')\n",
    "writer(ngc4163_sub_h,'/media/daniel/disk/observ_final_data/dwarf/subimages/ngc4163_sub_h.fits')\n",
    "writer(ugc7577_sub_h,'/media/daniel/disk/observ_final_data/dwarf/subimages/ugc7577_sub_h.fits')\n",
    "writer(ugc8320_sub_h,'/media/daniel/disk/observ_final_data/dwarf/subimages/ugc8320_sub_h.fits')\n"
   ]
  },
  {
   "cell_type": "code",
   "execution_count": 269,
   "metadata": {},
   "outputs": [],
   "source": [
    "#making some differences, might avoid convolving because of how small the targets are\n",
    "writer(ic3687_sub_h-ic3687_sub_r,'/media/daniel/disk/observ_final_data/dwarf/differences/ic3687.fits')\n",
    "writer(ugc7559_sub_h-ugc7559_sub_r,'/media/daniel/disk/observ_final_data/dwarf/differences/ugc7559.fits')\n",
    "writer(ugc7605_sub_h-ugc7605_sub_r,'/media/daniel/disk/observ_final_data/dwarf/differences/ugc7605.fits')\n",
    "writer(ugc8651_sub_h-ugc8651_sub_r,'/media/daniel/disk/observ_final_data/dwarf/differences/ugc8651.fits')\n",
    "writer(ugc8760_sub_h-ugc8760_sub_r,'/media/daniel/disk/observ_final_data/dwarf/differences/ugc8760.fits')\n",
    "writer(ugc9128_sub_h-ugc9128_sub_r,'/media/daniel/disk/observ_final_data/dwarf/differences/ugc9128.fits')\n",
    "writer(ngc4163_sub_h-ngc4163_sub_r,'/media/daniel/disk/observ_final_data/dwarf/differences/ngc4163.fits')\n",
    "writer(ugc7577_sub_h-ugc7577_sub_r,'/media/daniel/disk/observ_final_data/dwarf/differences/ugc7577.fits')\n",
    "writer(ugc8320_sub_h-ugc8320_sub_r,'/media/daniel/disk/observ_final_data/dwarf/differences/ugc8320.fits')\n"
   ]
  },
  {
   "cell_type": "code",
   "execution_count": 277,
   "metadata": {},
   "outputs": [],
   "source": [
    "#now difference images with convolving \n",
    "from astropy.convolution import convolve\n",
    "from astropy.convolution import Gaussian2DKernel\n",
    "\n",
    "g = Gaussian2DKernel(2)\n",
    "writer(convolve(ic3687_sub_h,g)-convolve(ic3687_sub_r,g),'/media/daniel/disk/observ_final_data/dwarf/convolv_differences/ic3687.fits')\n",
    "writer(convolve(ugc7559_sub_h,g)-convolve(ugc7559_sub_r,g),'/media/daniel/disk/observ_final_data/dwarf/convolv_differences/ugc7559.fits')\n",
    "writer(convolve(ugc7605_sub_h,g)-convolve(ugc7605_sub_r,g),'/media/daniel/disk/observ_final_data/dwarf/convolv_differences/ugc7605.fits')\n",
    "writer(convolve(ugc8651_sub_h,g)-convolve(ugc8651_sub_r,g),'/media/daniel/disk/observ_final_data/dwarf/convolv_differences/ugc8651.fits')\n",
    "writer(convolve(ugc8760_sub_h,g)-convolve(ugc8760_sub_r,g),'/media/daniel/disk/observ_final_data/dwarf/convolv_differences/ugc8760.fits')\n",
    "writer(convolve(ugc9128_sub_h,g)-convolve(ugc9128_sub_r,g),'/media/daniel/disk/observ_final_data/dwarf/convolv_differences/ugc9128.fits')\n",
    "writer(convolve(ngc4163_sub_h,g)-convolve(ngc4163_sub_r,g),'/media/daniel/disk/observ_final_data/dwarf/convolv_differences/ngc4163.fits')\n",
    "writer(convolve(ugc7577_sub_h,g)-convolve(ugc7577_sub_r,g),'/media/daniel/disk/observ_final_data/dwarf/convolv_differences/ugc7577.fits')\n",
    "writer(convolve(ugc8320_sub_h,g)-convolve(ugc8320_sub_r,g),'/media/daniel/disk/observ_final_data/dwarf/convolv_differences/ugc8320.fits')\n",
    "\n",
    "\n",
    "\n"
   ]
  },
  {
   "cell_type": "code",
   "execution_count": 289,
   "metadata": {},
   "outputs": [],
   "source": [
    "def fluxarry(cat, wavelength):#reads out flux and flux err, converts from uJy to ergs and flux in wavelength\n",
    "    arry=[]\n",
    "    for row in cat:\n",
    "        arry.append(row['FLUX_AUTO']*1e-29*3*1e18/(wavelength**2))\n",
    "    return arry"
   ]
  },
  {
   "cell_type": "code",
   "execution_count": 290,
   "metadata": {},
   "outputs": [],
   "source": [
    "#reading in fluxes\n",
    "#using uncertainties package to track changes in error (.nominal_values,.std_devs)\n",
    "from astropy.io import ascii\n",
    "\n",
    "ic3687_cat_r=ascii.read('/media/daniel/disk/observ_final_data/dwarf/flux/ic3687r.cat')\n",
    "ugc7559_cat_r=ascii.read('/media/daniel/disk/observ_final_data/dwarf/flux/ugc7559r.cat')\n",
    "ugc7605_cat_r=ascii.read('/media/daniel/disk/observ_final_data/dwarf/flux/ugc7605r.cat')\n",
    "ugc8651_cat_r=ascii.read('/media/daniel/disk/observ_final_data/dwarf/flux/ugc8651r.cat')\n",
    "ugc8760_cat_r=ascii.read('/media/daniel/disk/observ_final_data/dwarf/flux/ugc8760r.cat')\n",
    "ugc9128_cat_r=ascii.read('/media/daniel/disk/observ_final_data/dwarf/flux/ugc9128r.cat')\n",
    "ngc4163_cat_r=ascii.read('/media/daniel/disk/observ_final_data/dwarf/flux/ngc4163r.cat')\n",
    "ugc7577_cat_r=ascii.read('/media/daniel/disk/observ_final_data/dwarf/flux/ugc7577r.cat')\n",
    "ugc8320_cat_r=ascii.read('/media/daniel/disk/observ_final_data/dwarf/flux/ugc8320r.cat')\n",
    "\n",
    "ic3687_cat_h=ascii.read('/media/daniel/disk/observ_final_data/dwarf/flux/ic3687h.cat')\n",
    "ugc7559_cat_h=ascii.read('/media/daniel/disk/observ_final_data/dwarf/flux/ugc7559h.cat')\n",
    "ugc7605_cat_h=ascii.read('/media/daniel/disk/observ_final_data/dwarf/flux/ugc7605h.cat')\n",
    "ugc8651_cat_h=ascii.read('/media/daniel/disk/observ_final_data/dwarf/flux/ugc8651h.cat')\n",
    "ugc8760_cat_h=ascii.read('/media/daniel/disk/observ_final_data/dwarf/flux/ugc8760h.cat')\n",
    "ugc9128_cat_h=ascii.read('/media/daniel/disk/observ_final_data/dwarf/flux/ugc9128h.cat')\n",
    "ngc4163_cat_h=ascii.read('/media/daniel/disk/observ_final_data/dwarf/flux/ngc4163h.cat')\n",
    "ugc7577_cat_h=ascii.read('/media/daniel/disk/observ_final_data/dwarf/flux/ugc7577h.cat')\n",
    "ugc8320_cat_h=ascii.read('/media/daniel/disk/observ_final_data/dwarf/flux/ugc8320h.cat')\n",
    "\n",
    "ic3687_flux_r=fluxarry(ic3687_cat_r,6170)\n",
    "ugc7559_flux_r=fluxarry(ugc7559_cat_r,6170)\n",
    "ugc7605_flux_r=fluxarry(ugc7605_cat_r,6170)\n",
    "ugc8651_flux_r=fluxarry(ugc8651_cat_r,6170)\n",
    "ugc8760_flux_r=fluxarry(ugc8760_cat_r,6170)\n",
    "ugc9128_flux_r=fluxarry(ugc9128_cat_r,6170)\n",
    "ngc4163_flux_r=fluxarry(ngc4163_cat_r,6170)\n",
    "ugc7577_flux_r=fluxarry(ugc7577_cat_r,6170)\n",
    "ugc8320_flux_r=fluxarry(ugc8320_cat_r,6170)\n",
    "\n",
    "ic3687_flux_h=fluxarry(ic3687_cat_h,6563)\n",
    "ugc7559_flux_h=fluxarry(ugc7559_cat_h,6563)\n",
    "ugc7605_flux_h=fluxarry(ugc7605_cat_h,6563)\n",
    "ugc8651_flux_h=fluxarry(ugc8651_cat_h,6563)\n",
    "ugc8760_flux_h=fluxarry(ugc8760_cat_h,6563)\n",
    "ugc9128_flux_h=fluxarry(ugc9128_cat_h,6563)\n",
    "ngc4163_flux_h=fluxarry(ngc4163_cat_h,6563)\n",
    "ugc7577_flux_h=fluxarry(ugc7577_cat_h,6563)\n",
    "ugc8320_flux_h=fluxarry(ugc8320_cat_h,6563)\n",
    "\n",
    "\n"
   ]
  },
  {
   "cell_type": "code",
   "execution_count": 291,
   "metadata": {},
   "outputs": [],
   "source": [
    "#flux Ha calcutions\n",
    "\n",
    "ic3687_realflux_h=[]\n",
    "ugc7559_realflux_h=[]\n",
    "ugc7605_realflux_h=[]\n",
    "ugc8651_realflux_h=[]\n",
    "ugc8760_realflux_h=[]\n",
    "ugc9128_realflux_h=[]\n",
    "ngc4163_realflux_h=[]\n",
    "ugc7577_realflux_h=[]\n",
    "ugc8320_realflux_h=[]\n",
    "\n",
    "for x in range(0,len(ic3687_flux_h)):\n",
    "    ic3687_realflux_h.append((ic3687_flux_r[x]-ic3687_flux_h[x])/(1/1125-1/50))\n",
    "\n",
    "for x in range(0,len(ugc7559_flux_h)):\n",
    "    ugc7559_realflux_h.append((ugc7559_flux_r[x]-ugc7559_flux_h[x])/(1/1125-1/50))\n",
    "\n",
    "for x in range(0,len(ugc7605_flux_h)):\n",
    "    ugc7605_realflux_h.append((ugc7605_flux_r[x]-ugc7605_flux_h[x])/(1/1125-1/50))\n",
    "    \n",
    "for x in range(0,len(ugc8651_flux_h)):\n",
    "    ugc8651_realflux_h.append((ugc8651_flux_r[x]-ugc8651_flux_h[x])/(1/1125-1/50))\n",
    "    \n",
    "for x in range(0,len(ugc8760_flux_h)):\n",
    "    ugc8760_realflux_h.append((ugc8760_flux_r[x]-ugc8760_flux_h[x])/(1/1125-1/50))\n",
    "    \n",
    "for x in range(0,len(ugc9128_flux_h)):\n",
    "    ugc9128_realflux_h.append((ugc9128_flux_r[x]-ugc9128_flux_h[x])/(1/1125-1/50))\n",
    "    \n",
    "for x in range(0,len(ngc4163_flux_h)):\n",
    "    ngc4163_realflux_h.append((ngc4163_flux_r[x]-ngc4163_flux_h[x])/(1/1125-1/50))\n",
    "    \n",
    "for x in range(0,len(ugc7577_flux_h)):\n",
    "    ugc7577_realflux_h.append((ugc7577_flux_r[x]-ugc7577_flux_h[x])/(1/1125-1/50))\n",
    "    \n",
    "for x in range(0,len(ugc8320_flux_h)):\n",
    "    ugc8320_realflux_h.append((ugc8320_flux_r[x]-ugc8320_flux_h[x])/(1/1125-1/50))\n"
   ]
  },
  {
   "cell_type": "code",
   "execution_count": 388,
   "metadata": {},
   "outputs": [],
   "source": [
    "#getting rid of negative fluxes, presume those are coming from field stars not being fully subtracted from difference image\n",
    "ic3687_realflux_h=np.array(ic3687_realflux_h)[np.where(np.array(ic3687_realflux_h)>0)]\n",
    "ugc7559_realflux_h=np.array(ugc7559_realflux_h)[np.where(np.array(ugc7559_realflux_h)>0)]\n",
    "ugc7605_realflux_h=np.array(ugc7605_realflux_h)[np.where(np.array(ugc7605_realflux_h)>0)]\n",
    "ugc8651_realflux_h=np.array(ugc8651_realflux_h)[np.where(np.array(ugc8651_realflux_h)>0)]\n",
    "ugc8760_realflux_h=np.array(ugc8760_realflux_h)[np.where(np.array(ugc8760_realflux_h)>0)]\n",
    "ugc9128_realflux_h=np.array(ugc9128_realflux_h)[np.where(np.array(ugc9128_realflux_h)>0)]\n",
    "ngc4163_realflux_h=np.array(ngc4163_realflux_h)[np.where(np.array(ngc4163_realflux_h)>0)]\n",
    "ugc7577_realflux_h=np.array(ugc7577_realflux_h)[np.where(np.array(ugc7577_realflux_h)>0)]\n",
    "ugc8320_realflux_h=np.array(ugc8320_realflux_h)[np.where(np.array(ugc8320_realflux_h)>0)]"
   ]
  },
  {
   "cell_type": "code",
   "execution_count": 389,
   "metadata": {},
   "outputs": [],
   "source": [
    "def luminosity(flux, distance):\n",
    "    return (4*np.pi*(distance)**2*flux)"
   ]
  },
  {
   "cell_type": "code",
   "execution_count": 390,
   "metadata": {},
   "outputs": [],
   "source": [
    "# total integrated H-alpha flux for each dwarf galaxy\n",
    "ic3687_sumflux=np.sum(ic3687_realflux_h)\n",
    "ugc7559_sumflux=np.sum(ugc7559_realflux_h)\n",
    "ugc7605_sumflux=np.sum(ugc7605_realflux_h)\n",
    "ugc8651_sumflux=np.sum(ugc8651_realflux_h)\n",
    "ugc8760_sumflux=np.sum(ugc8760_realflux_h)\n",
    "ugc9128_sumflux=np.sum(ugc9128_realflux_h)\n",
    "ngc4163_sumflux=np.sum(ngc4163_realflux_h)\n",
    "ugc7577_sumflux=np.sum(ugc7577_realflux_h)\n",
    "ugc8320_sumflux=np.sum(ugc8320_realflux_h)\n"
   ]
  },
  {
   "cell_type": "code",
   "execution_count": 391,
   "metadata": {},
   "outputs": [],
   "source": [
    "#finding luminosities\n",
    "\n",
    "# ic3687 4.12 mpc 1.27e25 cm\n",
    "# ugc7559 4.61 mpc 1.42e25 cm\n",
    "# ugc7605 4.61 mpc 1.42e25 cm\n",
    "# ugc8651 3.10 Mpc 9.57e24\n",
    "# ugc8760 3.28 mpc 1.91e25\n",
    "# ugc9128 2.28 Mpc 7.04e24\n",
    "# ngc4163 2.96 Mpc 9.13e24\n",
    "# ugc7577 2.58 Mpc 7.96e24\n",
    "# ugc8320 4.20 Mpc 1.29e25\n",
    "\n",
    "#m94 4.25 Mpc 1.3e25cm\n",
    "\n",
    "ic3687_lumin=luminosity(ic3687_sumflux,1.27e25)\n",
    "ugc7559_lumin=luminosity(ugc7559_sumflux,1.42e25)\n",
    "ugc7605_lumin=luminosity(ugc7605_sumflux, 1.42e25)\n",
    "ugc8651_lumin=luminosity(ugc8651_sumflux, 9.57e24)\n",
    "ugc8760_lumin=luminosity(ugc8760_sumflux, 1.91e25)\n",
    "ugc9128_lumin=luminosity(ugc9128_sumflux, 7.04e24)\n",
    "ngc4163_lumin=luminosity(ngc4163_sumflux, 9.13e24)\n",
    "ugc7577_lumin=luminosity(ugc7577_sumflux, 7.96e24)\n",
    "ugc8320_lumin=luminosity(ugc8320_sumflux, 1.29e25)"
   ]
  },
  {
   "cell_type": "code",
   "execution_count": 392,
   "metadata": {},
   "outputs": [],
   "source": [
    "#converts from degrees to radians\n",
    "def deg_to_rad(deg):\n",
    "    return np.pi*deg/180"
   ]
  },
  {
   "cell_type": "code",
   "execution_count": 393,
   "metadata": {},
   "outputs": [],
   "source": [
    "#calculates distance between two objects using formula for angle between two 3-vectors and law of cosines\n",
    "#d1 and d2 are distances to the object from earth\n",
    "def distance(d1,ra1,dec1,d2,ra2,dec2):\n",
    "    dx1, dy1, dz1 = d1*np.cos(deg_to_rad(dec1))*np.cos(deg_to_rad(ra1)), d1*np.cos(deg_to_rad(dec1))*np.sin(deg_to_rad(ra1)), d1*np.sin(deg_to_rad(dec1))\n",
    "    dx2, dy2, dz2 = d2*np.cos(deg_to_rad(dec2))*np.cos(deg_to_rad(ra2)), d2*np.cos(deg_to_rad(dec2))*np.sin(deg_to_rad(ra2)), d2*np.sin(deg_to_rad(dec2))\n",
    "    dot=dx1*dx2+dy1*dy2+dz1*dz2\n",
    "    return np.sqrt(d1**2+d2**2-2*d1*d2*dot/(d1*d2))"
   ]
  },
  {
   "cell_type": "code",
   "execution_count": 394,
   "metadata": {},
   "outputs": [],
   "source": [
    "#calculating distance between each dwarf galaxy and M94\n",
    "ic3687_dist=distance(4.12, 190.56, 38.3010, 4.25, 192.72, 41.0712)\n",
    "ugc7559_dist=distance(4.61, 186.77, 37.0836, 4.25, 192.72, 41.071)\n",
    "ugc7605_dist=distance(4.61, 187.16, 35.4304, 4.25, 192.72, 41.071)\n",
    "ugc8651_dist=distance(3.1, 204.97, 40.4421, 4.25, 192.72, 41.071)\n",
    "ugc8760_dist=distance(3.28, 207.71, 38.0116, 4.25, 192.72, 41.071)\n",
    "ugc9128_dist=distance(2.28, 213.98, 23.0320, 4.25, 192.72, 41.071)\n",
    "ngc4163_dist=distance(2.96, 183.92, 43.2939, 4.25, 192.72, 41.071)\n",
    "ugc7577_dist=distance(2.58, 186.92, 43.2939, 4.25, 192.72, 41.071)\n",
    "ugc8320_dist=distance(4.2, 198.62, 45.5511, 4.25, 192.72, 41.071)"
   ]
  },
  {
   "cell_type": "code",
   "execution_count": 435,
   "metadata": {},
   "outputs": [],
   "source": [
    "dist_arry=[ic3687_dist, ugc8320_dist, ugc7559_dist, ugc7605_dist, ugc8760_dist, ugc8651_dist, ngc4163_dist, ugc7577_dist, ugc9128_dist]\n"
   ]
  },
  {
   "cell_type": "code",
   "execution_count": 434,
   "metadata": {},
   "outputs": [],
   "source": [
    "lumin_arry=[ic3687_lumin, ugc8320_lumin, ugc7559_lumin, ugc7605_lumin, ugc8760_lumin, ugc8651_lumin, ngc4163_lumin, ugc7577_lumin, ugc9128_lumin]\n"
   ]
  },
  {
   "cell_type": "code",
   "execution_count": 576,
   "metadata": {},
   "outputs": [
    {
     "name": "stdout",
     "output_type": "stream",
     "text": [
      "[4.21547277e+37 4.92498439e-01 1.00000000e+00]\n"
     ]
    }
   ],
   "source": [
    "from scipy.optimize import curve_fit#fitting to ax^-b+C\n",
    "def func(x,a,b,c): \n",
    "    return a * x**(-b)+c\n",
    "popt, pcov = curve_fit(func, np.array(dist_arry), np.array(lumin_arry),[1e38,2,1])\n",
    "print(popt)"
   ]
  },
  {
   "cell_type": "code",
   "execution_count": 578,
   "metadata": {},
   "outputs": [
    {
     "name": "stdout",
     "output_type": "stream",
     "text": [
      "[8.14234935e+37 5.51561749e-01 1.00000000e+00]\n"
     ]
    },
    {
     "name": "stderr",
     "output_type": "stream",
     "text": [
      "/home/daniel/miniconda3/lib/python3.7/site-packages/scipy/optimize/minpack.py:808: OptimizeWarning: Covariance of the parameters could not be estimated\n",
      "  category=OptimizeWarning)\n"
     ]
    }
   ],
   "source": [
    "def func2(x,a,b,c): #fitting to a*e^-bx+c\n",
    "    return a * np.exp(-b * x) + c\n",
    "popt2, pcov2 = curve_fit(func2, np.array(dist_arry), np.array(lumin_arry),[1e38,2,1])\n",
    "print(popt2)"
   ]
  },
  {
   "cell_type": "markdown",
   "metadata": {},
   "source": [
    "the closer to 1 the better for this type of error estimation"
   ]
  },
  {
   "cell_type": "code",
   "execution_count": 580,
   "metadata": {},
   "outputs": [
    {
     "name": "stdout",
     "output_type": "stream",
     "text": [
      "0.008968621913221342\n"
     ]
    }
   ],
   "source": [
    "#coming up with error metric for these functions\n",
    "curve_err=np.array(lumin_arry)/func(np.array(dist_arry),*popt)\n",
    "print(1-np.mean(curve_err))"
   ]
  },
  {
   "cell_type": "code",
   "execution_count": 585,
   "metadata": {},
   "outputs": [
    {
     "name": "stdout",
     "output_type": "stream",
     "text": [
      "0.03496376750983243\n"
     ]
    }
   ],
   "source": [
    "curve_err=np.array(lumin_arry)/func2(np.array(dist_arry),*popt2)\n",
    "print(1-np.mean(curve_err))"
   ]
  },
  {
   "cell_type": "code",
   "execution_count": 581,
   "metadata": {},
   "outputs": [],
   "source": [
    "slope, intercept, r_value, p_value, std_err=stats.linregress(dist_arry, lumin_arry)"
   ]
  },
  {
   "cell_type": "code",
   "execution_count": 582,
   "metadata": {},
   "outputs": [
    {
     "name": "stdout",
     "output_type": "stream",
     "text": [
      "0.0464912344235624\n"
     ]
    }
   ],
   "source": [
    "line_err=np.array(lumin_arry)/(intercept+slope*np.array(dist_arry))\n",
    "print(1-np.mean(line_err))"
   ]
  },
  {
   "cell_type": "code",
   "execution_count": 586,
   "metadata": {},
   "outputs": [
    {
     "data": {
      "text/plain": [
       "<matplotlib.legend.Legend at 0x7f008944a310>"
      ]
     },
     "execution_count": 586,
     "metadata": {},
     "output_type": "execute_result"
    },
    {
     "data": {
      "image/png": "[encoded data removed]",
      "text/plain": [
       "<Figure size 432x288 with 1 Axes>"
      ]
     },
     "metadata": {
      "needs_background": "light"
     },
     "output_type": "display_data"
    }
   ],
   "source": [
    "from scipy import stats\n",
    "\n",
    "plt.figure()\n",
    "plt.title('Total HII Region Luminosity for Dwarf Galaxies of M94 \\n as a function of Distance')\n",
    "plt.xlabel('Distance from M94 in Mpc',fontsize=14)\n",
    "plt.ylabel('HII region H-alpha Luminosity (erg/s)',fontsize=14)\n",
    "plt.scatter(dist_arry, lumin_arry)\n",
    "plt.plot(dist_arry, intercept+slope*np.array(dist_arry), 'r', label='Lin fit | Err:0.0464')\n",
    "plt.plot(dist_arry, func(np.array(dist_arry), *popt),'g',linestyle='dashed',label='ax^b+c | Err:0.00897')\n",
    "plt.plot(dist_arry, func2(np.array(dist_arry), *popt2),'b',linestyle='dotted',label='a*e^-bx+c | Err:0.0349')\n",
    "plt.legend()\n"
   ]
  },
  {
   "cell_type": "markdown",
   "metadata": {},
   "source": [
    "There is definitely an inverse relationship between distance from M94 and the strength of the HII regions in each dwarf galaxy. What is unclear is what law best describes this, but the fact that the force of gravity follows an inverse square would lead one to think that the relation should not be linear in the ideal case."
   ]
  },
  {
   "cell_type": "code",
   "execution_count": 449,
   "metadata": {},
   "outputs": [],
   "source": [
    "#err in flux by taking mean of all fluxes that were also incorporated intot the analysis\n",
    "\n",
    "\n",
    "ic3687_fluxer_r=np.mean(ic3687_cat_r['FLUXERR_AUTO'][np.where(np.array(ic3687_realflux_h)>0)])\n",
    "ugc7559_fluxer_r=np.mean(ugc7559_cat_r['FLUXERR_AUTO'][np.where(np.array(ugc7559_realflux_h)>0)])\n",
    "ugc7605_fluxer_r=np.mean(ugc7605_cat_r['FLUXERR_AUTO'][np.where(np.array(ugc7605_realflux_h)>0)])\n",
    "ugc8651_fluxer_r=np.mean(ugc8651_cat_r['FLUXERR_AUTO'][np.where(np.array(ugc8651_realflux_h)>0)])\n",
    "ugc8760_fluxer_r=np.mean(ugc8760_cat_r['FLUXERR_AUTO'][np.where(np.array(ugc8760_realflux_h)>0)])\n",
    "ugc9128_fluxer_r=np.mean(ugc9128_cat_r['FLUXERR_AUTO'][np.where(np.array(ugc9128_realflux_h)>0)])\n",
    "ngc4163_fluxer_r=np.mean(ngc4163_cat_r['FLUXERR_AUTO'][np.where(np.array(ngc4163_realflux_h)>0)])\n",
    "ugc7577_fluxer_r=np.mean(ugc7577_cat_r['FLUXERR_AUTO'][np.where(np.array(ugc7577_realflux_h)>0)])\n",
    "ugc8320_fluxer_r=np.mean(ugc8320_cat_r['FLUXERR_AUTO'][np.where(np.array(ugc8320_realflux_h)>0)])\n",
    "\n",
    "ic3687_fluxer_h=np.mean(ic3687_cat_h['FLUXERR_AUTO'][np.where(np.array(ic3687_realflux_h)>0)])\n",
    "ugc7559_fluxer_h=np.mean(ugc7559_cat_h['FLUXERR_AUTO'][np.where(np.array(ugc7559_realflux_h)>0)])\n",
    "ugc7605_fluxer_h=np.mean(ugc7605_cat_h['FLUXERR_AUTO'][np.where(np.array(ugc7605_realflux_h)>0)])\n",
    "ugc8651_fluxer_h=np.mean(ugc8651_cat_h['FLUXERR_AUTO'][np.where(np.array(ugc8651_realflux_h)>0)])\n",
    "ugc8760_fluxer_h=np.mean(ugc8760_cat_h['FLUXERR_AUTO'][np.where(np.array(ugc8760_realflux_h)>0)])\n",
    "ugc9128_fluxer_h=np.mean(ugc9128_cat_h['FLUXERR_AUTO'][np.where(np.array(ugc9128_realflux_h)>0)])\n",
    "ngc4163_fluxer_h=np.mean(ngc4163_cat_h['FLUXERR_AUTO'][np.where(np.array(ngc4163_realflux_h)>0)])\n",
    "ugc7577_fluxer_h=np.mean(ugc7577_cat_h['FLUXERR_AUTO'][np.where(np.array(ugc7577_realflux_h)>0)])\n",
    "ugc8320_fluxer_h=np.mean(ugc8320_cat_h['FLUXERR_AUTO'][np.where(np.array(ugc8320_realflux_h)>0)])\n"
   ]
  },
  {
   "cell_type": "code",
   "execution_count": 594,
   "metadata": {},
   "outputs": [
    {
     "name": "stdout",
     "output_type": "stream",
     "text": [
      "IC 3687 R band Flux Err: 42.50332 uJy\n",
      "UGC 7559 R band Flux Err: 35.985762 uJy\n",
      "UGC 7605 R band Flux Err: 21.33902 uJy\n",
      "UGC 8651 R band Flux Err: 39.26421 uJy\n",
      "UGC 8760 R band Flux Err: 69.8874 uJy\n",
      "UGC 9128 R band Flux Err: 20.10466 uJy\n",
      "NGC 4163 R band Flux Err: 21.090687499999998 uJy\n",
      "UGC 7577 R band Flux Err: 36.234202 uJy\n",
      "UGC 8320 R band Flux Err: 17.52804433333333 uJy\n",
      "\n",
      "IC 3687 H band Flux Err: 47.5374 uJy\n",
      "UGC 7559 H band Flux Err: 37.999716 uJy\n",
      "UGC 7605 H band Flux Err: 22.123745 uJy\n",
      "UGC 8651 H band Flux Err: 37.89296 uJy\n",
      "UGC 8760 H band Flux Err: 72.663855 uJy\n",
      "UGC 9128 H band Flux Err: 20.76617 uJy\n",
      "NGC 4163 H band Flux Err: 35.5879775 uJy\n",
      "UGC 7577 H band Flux Err: 52.691877999999996 uJy\n",
      "UGC 8320 H band Flux Err: 21.87308133333333 uJy\n"
     ]
    }
   ],
   "source": [
    "print('IC 3687 R band Flux Err: '+str(ic3687_fluxer_r)+' uJy')\n",
    "print('UGC 7559 R band Flux Err: '+str(ugc7559_fluxer_r)+' uJy')\n",
    "print('UGC 7605 R band Flux Err: '+str(ugc7605_fluxer_r)+' uJy')\n",
    "print('UGC 8651 R band Flux Err: '+str(ugc8651_fluxer_r)+' uJy')\n",
    "print('UGC 8760 R band Flux Err: '+str(ugc8760_fluxer_r)+' uJy')\n",
    "print('UGC 9128 R band Flux Err: '+str(ugc9128_fluxer_r)+' uJy')\n",
    "print('NGC 4163 R band Flux Err: '+str(ngc4163_fluxer_r)+' uJy')\n",
    "print('UGC 7577 R band Flux Err: '+str(ugc7577_fluxer_r)+' uJy')\n",
    "print('UGC 8320 R band Flux Err: '+str(ugc8320_fluxer_r)+' uJy')\n",
    "print()\n",
    "print('IC 3687 H band Flux Err: '+str(ic3687_fluxer_h)+' uJy')\n",
    "print('UGC 7559 H band Flux Err: '+str(ugc7559_fluxer_h)+' uJy')\n",
    "print('UGC 7605 H band Flux Err: '+str(ugc7605_fluxer_h)+' uJy')\n",
    "print('UGC 8651 H band Flux Err: '+str(ugc8651_fluxer_h)+' uJy')\n",
    "print('UGC 8760 H band Flux Err: '+str(ugc8760_fluxer_h)+' uJy')\n",
    "print('UGC 9128 H band Flux Err: '+str(ugc9128_fluxer_h)+' uJy')\n",
    "print('NGC 4163 H band Flux Err: '+str(ngc4163_fluxer_h)+' uJy')\n",
    "print('UGC 7577 H band Flux Err: '+str(ugc7577_fluxer_h)+' uJy')\n",
    "print('UGC 8320 H band Flux Err: '+str(ugc8320_fluxer_h)+' uJy')"
   ]
  },
  {
   "cell_type": "code",
   "execution_count": null,
   "metadata": {},
   "outputs": [],
   "source": []
  }
 ],
 "metadata": {
  "kernelspec": {
   "display_name": "Python 3",
   "language": "python",
   "name": "python3"
  },
  "language_info": {
   "codemirror_mode": {
    "name": "ipython",
    "version": 3
   },
   "file_extension": ".py",
   "mimetype": "text/x-python",
   "name": "python",
   "nbconvert_exporter": "python",
   "pygments_lexer": "ipython3",
   "version": "3.7.6"
  }
 },
 "nbformat": 4,
 "nbformat_minor": 4
}
